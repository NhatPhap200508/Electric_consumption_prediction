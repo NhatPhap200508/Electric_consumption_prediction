{
 "cells": [
  {
   "cell_type": "code",
   "execution_count": 14,
   "metadata": {
    "execution": {
     "iopub.execute_input": "2025-09-08T06:12:27.020893Z",
     "iopub.status.busy": "2025-09-08T06:12:27.020384Z",
     "iopub.status.idle": "2025-09-08T06:12:30.300724Z",
     "shell.execute_reply": "2025-09-08T06:12:30.299629Z",
     "shell.execute_reply.started": "2025-09-08T06:12:27.020870Z"
    },
    "trusted": true
   },
   "outputs": [],
   "source": [
    "!pip install statsforecast --quiet"
   ]
  },
  {
   "cell_type": "code",
   "execution_count": 15,
   "metadata": {
    "execution": {
     "iopub.execute_input": "2025-09-08T06:12:34.390600Z",
     "iopub.status.busy": "2025-09-08T06:12:34.389965Z",
     "iopub.status.idle": "2025-09-08T06:12:34.451604Z",
     "shell.execute_reply": "2025-09-08T06:12:34.450964Z",
     "shell.execute_reply.started": "2025-09-08T06:12:34.390567Z"
    },
    "trusted": true
   },
   "outputs": [
    {
     "name": "stdout",
     "output_type": "stream",
     "text": [
      "1.7.1\n"
     ]
    }
   ],
   "source": [
    "import sklearn\n",
    "print(sklearn.__version__)\n"
   ]
  },
  {
   "cell_type": "code",
   "execution_count": 17,
   "metadata": {
    "execution": {
     "iopub.execute_input": "2025-09-08T06:12:57.034760Z",
     "iopub.status.busy": "2025-09-08T06:12:57.033869Z",
     "iopub.status.idle": "2025-09-08T06:13:00.779677Z",
     "shell.execute_reply": "2025-09-08T06:13:00.778591Z",
     "shell.execute_reply.started": "2025-09-08T06:12:57.034726Z"
    },
    "trusted": true
   },
   "outputs": [],
   "source": [
    "!pip install \"u8darts[all]\" --quiet\n"
   ]
  },
  {
   "cell_type": "code",
   "execution_count": 18,
   "metadata": {
    "execution": {
     "iopub.execute_input": "2025-09-08T06:13:05.747092Z",
     "iopub.status.busy": "2025-09-08T06:13:05.746260Z",
     "iopub.status.idle": "2025-09-08T06:13:13.409872Z",
     "shell.execute_reply": "2025-09-08T06:13:13.409086Z",
     "shell.execute_reply.started": "2025-09-08T06:13:05.747059Z"
    },
    "trusted": true
   },
   "outputs": [],
   "source": [
    "import sys\n",
    "sys.path.append(\"/kaggle/input/lib-power-prediction\")\n",
    "from tqdm.auto import tqdm\n",
    "from lib.model_utils import preprocess_features, train_and_evaluate_model, plot_forecast, forecast_bias\n",
    "from lib.utils import compact_to_expanded, imputation, format_plot\n",
    "from sklearn.metrics import mean_absolute_error as mae\n",
    "from sklearn.metrics import root_mean_squared_error as rmse\n",
    "from sklearn.metrics import mean_squared_error as mse\n",
    "import pandas as pd\n",
    "import plotly.express as px\n",
    "from pathlib import Path\n",
    "from darts.timeseries import TimeSeries\n",
    "from darts.dataprocessing.transformers import Scaler\n",
    "from darts.models import RNNModel, TFTModel, NBEATSModel, TSMixerModel\n",
    "import torch"
   ]
  },
  {
   "cell_type": "code",
   "execution_count": null,
   "metadata": {
    "execution": {
     "iopub.status.busy": "2025-09-08T06:11:36.925288Z",
     "iopub.status.idle": "2025-09-08T06:11:36.925492Z",
     "shell.execute_reply": "2025-09-08T06:11:36.925404Z",
     "shell.execute_reply.started": "2025-09-08T06:11:36.925395Z"
    },
    "trusted": true
   },
   "outputs": [],
   "source": [
    "lclid_acorn_map = pd.read_pickle(\"/kaggle/input/data-output-power-prediction/london_smart_meters_lclid_acorn_map.pkl\")"
   ]
  },
  {
   "cell_type": "code",
   "execution_count": null,
   "metadata": {
    "execution": {
     "iopub.status.busy": "2025-09-08T06:11:36.926825Z",
     "iopub.status.idle": "2025-09-08T06:11:36.927133Z",
     "shell.execute_reply": "2025-09-08T06:11:36.927004Z",
     "shell.execute_reply.started": "2025-09-08T06:11:36.926987Z"
    },
    "trusted": true
   },
   "outputs": [],
   "source": [
    "print(lclid_acorn_map.columns)"
   ]
  },
  {
   "cell_type": "code",
   "execution_count": null,
   "metadata": {
    "execution": {
     "iopub.status.busy": "2025-09-08T06:11:36.928259Z",
     "iopub.status.idle": "2025-09-08T06:11:36.928476Z",
     "shell.execute_reply": "2025-09-08T06:11:36.928387Z",
     "shell.execute_reply.started": "2025-09-08T06:11:36.928378Z"
    },
    "trusted": true
   },
   "outputs": [],
   "source": [
    "print(lclid_acorn_map['Acorn_grouped'].unique())"
   ]
  },
  {
   "cell_type": "code",
   "execution_count": null,
   "metadata": {
    "execution": {
     "iopub.status.busy": "2025-09-08T06:11:36.929296Z",
     "iopub.status.idle": "2025-09-08T06:11:36.929566Z",
     "shell.execute_reply": "2025-09-08T06:11:36.929462Z",
     "shell.execute_reply.started": "2025-09-08T06:11:36.929449Z"
    },
    "trusted": true
   },
   "outputs": [],
   "source": [
    "affluent_households = lclid_acorn_map.loc[lclid_acorn_map.Acorn_grouped==\"Affluent\", [\"LCLid\",'file']]\n",
    "acorn_households = lclid_acorn_map.loc[lclid_acorn_map.Acorn_grouped==\"ACORN-\", [\"LCLid\",'file']]\n",
    "adversity_households = lclid_acorn_map.loc[lclid_acorn_map.Acorn_grouped==\"Adversity\", [\"LCLid\",'file']]\n",
    "acornu_households = lclid_acorn_map.loc[lclid_acorn_map.Acorn_grouped==\"ACORN-U\", [\"LCLid\",'file']]\n",
    "comfortable_households = lclid_acorn_map.loc[lclid_acorn_map.Acorn_grouped==\"Comfortable\", [\"LCLid\",'file']]"
   ]
  },
  {
   "cell_type": "code",
   "execution_count": null,
   "metadata": {
    "execution": {
     "iopub.status.busy": "2025-09-08T06:11:36.930539Z",
     "iopub.status.idle": "2025-09-08T06:11:36.930802Z",
     "shell.execute_reply": "2025-09-08T06:11:36.930699Z",
     "shell.execute_reply.started": "2025-09-08T06:11:36.930687Z"
    },
    "trusted": true
   },
   "outputs": [],
   "source": [
    "print(len(acorn_households))\n",
    "print(len(acornu_households))"
   ]
  },
  {
   "cell_type": "code",
   "execution_count": null,
   "metadata": {
    "execution": {
     "iopub.status.busy": "2025-09-08T06:11:36.931988Z",
     "iopub.status.idle": "2025-09-08T06:11:36.932328Z",
     "shell.execute_reply": "2025-09-08T06:11:36.932150Z",
     "shell.execute_reply.started": "2025-09-08T06:11:36.932133Z"
    },
    "trusted": true
   },
   "outputs": [],
   "source": [
    "selected_households = pd.concat(\n",
    "    [\n",
    "        affluent_households.sample(50, random_state=76),\n",
    "        comfortable_households.sample(50, random_state=76),\n",
    "        adversity_households.sample(50, random_state=76),\n",
    "        acorn_households.sample(len(acorn_households), random_state=76),\n",
    "        acornu_households.sample(len(acornu_households), random_state=76),\n",
    "    ]\n",
    ")\n",
    "selected_households['block']=selected_households.file.str.split(\"_\", expand=True).iloc[:,1].astype(int)"
   ]
  },
  {
   "cell_type": "code",
   "execution_count": null,
   "metadata": {
    "execution": {
     "iopub.status.busy": "2025-09-08T06:11:36.933163Z",
     "iopub.status.idle": "2025-09-08T06:11:36.933410Z",
     "shell.execute_reply": "2025-09-08T06:11:36.933308Z",
     "shell.execute_reply.started": "2025-09-08T06:11:36.933297Z"
    },
    "trusted": true
   },
   "outputs": [],
   "source": [
    "selected_households"
   ]
  },
  {
   "cell_type": "code",
   "execution_count": null,
   "metadata": {
    "execution": {
     "iopub.status.busy": "2025-09-08T06:11:36.934308Z",
     "iopub.status.idle": "2025-09-08T06:11:36.934652Z",
     "shell.execute_reply": "2025-09-08T06:11:36.934513Z",
     "shell.execute_reply.started": "2025-09-08T06:11:36.934494Z"
    },
    "trusted": true
   },
   "outputs": [],
   "source": [
    "from pathlib import Path\n",
    "\n",
    "# thư mục chứa dữ liệu\n",
    "data_dir = Path(\"/kaggle/input/data-output-power-prediction\")\n",
    "\n",
    "# extracting the paths to the different blocks and extracting the starting and ending blocks\n",
    "path_blocks = [\n",
    "    (p, *list(map(int, p.name.split(\"_\")[5].split(\".\")[0].split(\"-\"))))\n",
    "    for p in data_dir.glob(\n",
    "        \"london_smart_meters_merged_block*\"\n",
    "    )\n",
    "]\n"
   ]
  },
  {
   "cell_type": "code",
   "execution_count": null,
   "metadata": {
    "execution": {
     "iopub.status.busy": "2025-09-08T06:11:36.935648Z",
     "iopub.status.idle": "2025-09-08T06:11:36.935966Z",
     "shell.execute_reply": "2025-09-08T06:11:36.935831Z",
     "shell.execute_reply.started": "2025-09-08T06:11:36.935817Z"
    },
    "trusted": true
   },
   "outputs": [],
   "source": [
    "household_df_l = []\n",
    "for path, start_b, end_b in tqdm(path_blocks):\n",
    "    block_df = pd.read_parquet(path)\n",
    "    selected_households['block'].between\n",
    "    mask = selected_households['block'].between(start_b, end_b)\n",
    "    lclids = selected_households.loc[mask, \"LCLid\"]\n",
    "    household_df_l.append(block_df.loc[block_df.LCLid.isin(lclids)])"
   ]
  },
  {
   "cell_type": "code",
   "execution_count": null,
   "metadata": {
    "execution": {
     "iopub.status.busy": "2025-09-08T06:11:36.937148Z",
     "iopub.status.idle": "2025-09-08T06:11:36.937574Z",
     "shell.execute_reply": "2025-09-08T06:11:36.937402Z",
     "shell.execute_reply.started": "2025-09-08T06:11:36.937391Z"
    },
    "trusted": true
   },
   "outputs": [],
   "source": [
    "block_df = pd.concat(household_df_l)\n",
    "del household_df_l\n",
    "block_df.head()"
   ]
  },
  {
   "cell_type": "code",
   "execution_count": null,
   "metadata": {
    "execution": {
     "iopub.status.busy": "2025-09-08T06:11:36.938944Z",
     "iopub.status.idle": "2025-09-08T06:11:36.939203Z",
     "shell.execute_reply": "2025-09-08T06:11:36.939104Z",
     "shell.execute_reply.started": "2025-09-08T06:11:36.939092Z"
    },
    "trusted": true
   },
   "outputs": [],
   "source": [
    "# Lọc dữ liệu theo LCLid = \"MAC003069\"\n",
    "mac_df = block_df[block_df[\"LCLid\"] == \"MAC003069\"]\n",
    "mac_df.head()"
   ]
  },
  {
   "cell_type": "code",
   "execution_count": null,
   "metadata": {
    "execution": {
     "iopub.status.busy": "2025-09-08T06:11:36.939723Z",
     "iopub.status.idle": "2025-09-08T06:11:36.939958Z",
     "shell.execute_reply": "2025-09-08T06:11:36.939833Z",
     "shell.execute_reply.started": "2025-09-08T06:11:36.939824Z"
    },
    "trusted": true
   },
   "outputs": [],
   "source": [
    "block_df.info()"
   ]
  },
  {
   "cell_type": "code",
   "execution_count": null,
   "metadata": {
    "execution": {
     "iopub.status.busy": "2025-09-08T06:11:36.941073Z",
     "iopub.status.idle": "2025-09-08T06:11:36.941380Z",
     "shell.execute_reply": "2025-09-08T06:11:36.941229Z",
     "shell.execute_reply.started": "2025-09-08T06:11:36.941205Z"
    },
    "trusted": true
   },
   "outputs": [],
   "source": [
    "#Converting to expanded form\n",
    "exp_block_df = compact_to_expanded(block_df, timeseries_col = 'energy_consumption',\n",
    "static_cols = [\"frequency\", \"series_length\", \"stdorToU\", \"Acorn\", \"Acorn_grouped\", \"file\"],\n",
    "time_varying_cols = ['holidays', 'visibility', 'windBearing', 'temperature', 'dewPoint',\n",
    "       'pressure', 'apparentTemperature', 'windSpeed', 'precipType', 'icon',\n",
    "       'humidity', 'summary'],\n",
    "ts_identifier = \"LCLid\")\n",
    "\n",
    "exp_block_df.head()"
   ]
  },
  {
   "cell_type": "code",
   "execution_count": null,
   "metadata": {
    "execution": {
     "iopub.status.busy": "2025-09-08T06:11:36.942589Z",
     "iopub.status.idle": "2025-09-08T06:11:36.942944Z",
     "shell.execute_reply": "2025-09-08T06:11:36.942723Z",
     "shell.execute_reply.started": "2025-09-08T06:11:36.942709Z"
    },
    "trusted": true
   },
   "outputs": [],
   "source": [
    "exp_block_df.info()"
   ]
  },
  {
   "cell_type": "code",
   "execution_count": null,
   "metadata": {
    "execution": {
     "iopub.status.busy": "2025-09-08T06:11:36.943871Z",
     "iopub.status.idle": "2025-09-08T06:11:36.944203Z",
     "shell.execute_reply": "2025-09-08T06:11:36.944069Z",
     "shell.execute_reply.started": "2025-09-08T06:11:36.944053Z"
    },
    "trusted": true
   },
   "outputs": [],
   "source": [
    "test_mask = (exp_block_df.timestamp.dt.year==2014) & (exp_block_df.timestamp.dt.month==2)\n",
    "val_mask = (exp_block_df.timestamp.dt.year==2014) & (exp_block_df.timestamp.dt.month==1)\n",
    "\n",
    "train = exp_block_df[~(val_mask|test_mask)]\n",
    "val = exp_block_df[val_mask]\n",
    "test = exp_block_df[test_mask]\n",
    "print(f\"# of Training samples: {len(train)} | # of Validation samples: {len(val)} | # of Test samples: {len(test)}\")\n",
    "print(f\"Max Date in Train: {train.timestamp.max()} | Min Date in Validation: {val.timestamp.min()} | Min Date in Test: {test.timestamp.min()}\")"
   ]
  },
  {
   "cell_type": "code",
   "execution_count": null,
   "metadata": {
    "execution": {
     "iopub.status.busy": "2025-09-08T06:11:36.945250Z",
     "iopub.status.idle": "2025-09-08T06:11:36.945507Z",
     "shell.execute_reply": "2025-09-08T06:11:36.945404Z",
     "shell.execute_reply.started": "2025-09-08T06:11:36.945392Z"
    },
    "trusted": true
   },
   "outputs": [],
   "source": [
    "train.head()"
   ]
  },
  {
   "cell_type": "code",
   "execution_count": null,
   "metadata": {
    "execution": {
     "iopub.status.busy": "2025-09-08T06:11:36.946582Z",
     "iopub.status.idle": "2025-09-08T06:11:36.946843Z",
     "shell.execute_reply": "2025-09-08T06:11:36.946709Z",
     "shell.execute_reply.started": "2025-09-08T06:11:36.946699Z"
    },
    "trusted": true
   },
   "outputs": [],
   "source": [
    "train.to_parquet(\"/kaggle/working/selected_blocks_train.parquet\")\n",
    "val.to_parquet(\"/kaggle/working/selected_blocks_val.parquet\")\n",
    "test.to_parquet(\"/kaggle/working/selected_blocks_test.parquet\")"
   ]
  },
  {
   "cell_type": "markdown",
   "metadata": {},
   "source": [
    "Filling in missing values"
   ]
  },
  {
   "cell_type": "code",
   "execution_count": null,
   "metadata": {
    "execution": {
     "iopub.status.busy": "2025-09-08T06:11:36.947858Z",
     "iopub.status.idle": "2025-09-08T06:11:36.948173Z",
     "shell.execute_reply": "2025-09-08T06:11:36.948026Z",
     "shell.execute_reply.started": "2025-09-08T06:11:36.948010Z"
    },
    "trusted": true
   },
   "outputs": [],
   "source": [
    "train.isnull().sum()"
   ]
  },
  {
   "cell_type": "code",
   "execution_count": null,
   "metadata": {
    "execution": {
     "iopub.status.busy": "2025-09-08T06:11:36.948954Z",
     "iopub.status.idle": "2025-09-08T06:11:36.949182Z",
     "shell.execute_reply": "2025-09-08T06:11:36.949082Z",
     "shell.execute_reply.started": "2025-09-08T06:11:36.949073Z"
    },
    "trusted": true
   },
   "outputs": [],
   "source": [
    "test.isnull().sum()"
   ]
  },
  {
   "cell_type": "code",
   "execution_count": null,
   "metadata": {
    "execution": {
     "iopub.status.busy": "2025-09-08T06:11:36.949792Z",
     "iopub.status.idle": "2025-09-08T06:11:36.950025Z",
     "shell.execute_reply": "2025-09-08T06:11:36.949902Z",
     "shell.execute_reply.started": "2025-09-08T06:11:36.949893Z"
    },
    "trusted": true
   },
   "outputs": [],
   "source": [
    "val.isnull().sum()"
   ]
  },
  {
   "cell_type": "code",
   "execution_count": null,
   "metadata": {
    "execution": {
     "iopub.status.busy": "2025-09-08T06:11:36.951161Z",
     "iopub.status.idle": "2025-09-08T06:11:36.951430Z",
     "shell.execute_reply": "2025-09-08T06:11:36.951330Z",
     "shell.execute_reply.started": "2025-09-08T06:11:36.951316Z"
    },
    "trusted": true
   },
   "outputs": [],
   "source": [
    "ts_train = train.set_index(\"timestamp\")\n",
    "train_imputed = imputation(ts_train)\n",
    "train_imputed = train_imputed.drop('energy_consumption', axis=1)\n",
    "\n",
    "ts_val = val.set_index(\"timestamp\")\n",
    "val_imputed = imputation(ts_val)\n",
    "val_imputed = val_imputed.drop('energy_consumption', axis=1)\n",
    "\n",
    "ts_test = test.set_index(\"timestamp\")\n",
    "test_imputed = imputation(ts_test)\n",
    "test_imputed = test_imputed.drop('energy_consumption', axis=1)"
   ]
  },
  {
   "cell_type": "code",
   "execution_count": null,
   "metadata": {
    "execution": {
     "iopub.status.busy": "2025-09-08T06:11:36.952709Z",
     "iopub.status.idle": "2025-09-08T06:11:36.953031Z",
     "shell.execute_reply": "2025-09-08T06:11:36.952868Z",
     "shell.execute_reply.started": "2025-09-08T06:11:36.952855Z"
    },
    "trusted": true
   },
   "outputs": [],
   "source": [
    "train_imputed = train_imputed.reset_index()\n",
    "val_imputed = val_imputed.reset_index()\n",
    "test_imputed = test_imputed.reset_index()"
   ]
  },
  {
   "cell_type": "code",
   "execution_count": null,
   "metadata": {
    "execution": {
     "iopub.status.busy": "2025-09-08T06:11:36.953701Z",
     "iopub.status.idle": "2025-09-08T06:11:36.954135Z",
     "shell.execute_reply": "2025-09-08T06:11:36.953857Z",
     "shell.execute_reply.started": "2025-09-08T06:11:36.953844Z"
    },
    "trusted": true
   },
   "outputs": [],
   "source": [
    "train_imputed.to_parquet(\"/kaggle/working/selected_blocks_train_missing_imputed.parquet\")\n",
    "val_imputed.to_parquet(\"/kaggle/working/selected_blocks_val_missing_imputed.parquet\")\n",
    "test_imputed.to_parquet(\"/kaggle/working/selected_blocks_test_missing_imputed.parquet\")"
   ]
  },
  {
   "cell_type": "code",
   "execution_count": null,
   "metadata": {
    "execution": {
     "iopub.status.busy": "2025-09-08T06:11:36.954752Z",
     "iopub.status.idle": "2025-09-08T06:11:36.955033Z",
     "shell.execute_reply": "2025-09-08T06:11:36.954899Z",
     "shell.execute_reply.started": "2025-09-08T06:11:36.954889Z"
    },
    "trusted": true
   },
   "outputs": [],
   "source": [
    "!pip install window-ops"
   ]
  },
  {
   "cell_type": "code",
   "execution_count": null,
   "metadata": {
    "execution": {
     "iopub.status.busy": "2025-09-08T06:11:36.956190Z",
     "iopub.status.idle": "2025-09-08T06:11:36.956395Z",
     "shell.execute_reply": "2025-09-08T06:11:36.956305Z",
     "shell.execute_reply.started": "2025-09-08T06:11:36.956296Z"
    },
    "trusted": true
   },
   "outputs": [],
   "source": [
    "from lib.feature_engineering_utils import add_lags, LogTime, add_temporal_features\n",
    "from pathlib import Path\n",
    "import numpy as np\n",
    "import pandas as pd\n",
    "from tqdm.autonotebook import tqdm\n",
    "np.random.seed(42)\n",
    "tqdm.pandas()"
   ]
  },
  {
   "cell_type": "code",
   "execution_count": null,
   "metadata": {
    "execution": {
     "iopub.status.busy": "2025-09-08T06:11:36.957311Z",
     "iopub.status.idle": "2025-09-08T06:11:36.957618Z",
     "shell.execute_reply": "2025-09-08T06:11:36.957471Z",
     "shell.execute_reply.started": "2025-09-08T06:11:36.957457Z"
    },
    "trusted": true
   },
   "outputs": [],
   "source": [
    "train_df = pd.read_parquet(\"/kaggle/input/data-power/selected_blocks_train_missing_imputed.parquet\")\n",
    "val_df = pd.read_parquet(\"/kaggle/input/data-power/selected_blocks_val_missing_imputed.parquet\")\n",
    "test_df = pd.read_parquet(\"/kaggle/input/data-power/selected_blocks_test_missing_imputed.parquet\")"
   ]
  },
  {
   "cell_type": "code",
   "execution_count": null,
   "metadata": {
    "execution": {
     "iopub.status.busy": "2025-09-08T06:11:36.958771Z",
     "iopub.status.idle": "2025-09-08T06:11:36.959096Z",
     "shell.execute_reply": "2025-09-08T06:11:36.958953Z",
     "shell.execute_reply.started": "2025-09-08T06:11:36.958939Z"
    },
    "trusted": true
   },
   "outputs": [],
   "source": [
    "train_df[\"type\"] = \"train\"\n",
    "val_df[\"type\"] = \"val\"\n",
    "test_df[\"type\"] = \"test\"\n",
    "full_df = pd.concat([train_df, val_df, test_df]).sort_values([\"LCLid\", \"timestamp\"])\n",
    "del train_df, test_df, val_df"
   ]
  },
  {
   "cell_type": "code",
   "execution_count": null,
   "metadata": {
    "execution": {
     "iopub.status.busy": "2025-09-08T06:11:36.960470Z",
     "iopub.status.idle": "2025-09-08T06:11:36.960769Z",
     "shell.execute_reply": "2025-09-08T06:11:36.960630Z",
     "shell.execute_reply.started": "2025-09-08T06:11:36.960617Z"
    },
    "trusted": true
   },
   "outputs": [],
   "source": [
    "full_df.columns"
   ]
  },
  {
   "cell_type": "code",
   "execution_count": null,
   "metadata": {
    "execution": {
     "iopub.status.busy": "2025-09-08T06:11:36.961354Z",
     "iopub.status.idle": "2025-09-08T06:11:36.961589Z",
     "shell.execute_reply": "2025-09-08T06:11:36.961499Z",
     "shell.execute_reply.started": "2025-09-08T06:11:36.961490Z"
    },
    "trusted": true
   },
   "outputs": [],
   "source": [
    "full_df = full_df.rename(columns={'energy_consumption_imputed': 'energy_consumption'})"
   ]
  },
  {
   "cell_type": "code",
   "execution_count": null,
   "metadata": {
    "execution": {
     "iopub.status.busy": "2025-09-08T06:11:36.962639Z",
     "iopub.status.idle": "2025-09-08T06:11:36.962961Z",
     "shell.execute_reply": "2025-09-08T06:11:36.962798Z",
     "shell.execute_reply.started": "2025-09-08T06:11:36.962785Z"
    },
    "trusted": true
   },
   "outputs": [],
   "source": [
    "lags = (\n",
    "    (np.arange(5) + 1).tolist()\n",
    "    + (np.arange(5) + 46).tolist()\n",
    "    + (np.arange(5) + (48 * 7) - 2).tolist()\n",
    ")\n",
    "lags"
   ]
  },
  {
   "cell_type": "code",
   "execution_count": null,
   "metadata": {
    "execution": {
     "iopub.status.busy": "2025-09-08T06:11:36.964111Z",
     "iopub.status.idle": "2025-09-08T06:11:36.964426Z",
     "shell.execute_reply": "2025-09-08T06:11:36.964279Z",
     "shell.execute_reply.started": "2025-09-08T06:11:36.964265Z"
    },
    "trusted": true
   },
   "outputs": [],
   "source": [
    "with LogTime():\n",
    "    full_df, added_features = add_lags(\n",
    "        full_df, lags=lags, column=\"energy_consumption\", ts_id=\"LCLid\", use_32_bit=True\n",
    "    )\n",
    "print(f\"Features Created: {','.join(added_features)}\")"
   ]
  },
  {
   "cell_type": "code",
   "execution_count": null,
   "metadata": {
    "execution": {
     "iopub.status.busy": "2025-09-08T06:11:36.966206Z",
     "iopub.status.idle": "2025-09-08T06:11:36.966473Z",
     "shell.execute_reply": "2025-09-08T06:11:36.966345Z",
     "shell.execute_reply.started": "2025-09-08T06:11:36.966333Z"
    },
    "trusted": true
   },
   "outputs": [],
   "source": [
    "with LogTime():\n",
    "    full_df, added_features = add_temporal_features(\n",
    "        full_df,\n",
    "        field_name=\"timestamp\",\n",
    "        frequency=\"30min\",\n",
    "        add_elapsed=True,\n",
    "        drop=False,\n",
    "        use_32_bit=True,\n",
    "    )\n",
    "print(f\"Features Created: {','.join(added_features)}\")"
   ]
  },
  {
   "cell_type": "code",
   "execution_count": null,
   "metadata": {
    "execution": {
     "iopub.status.busy": "2025-09-08T06:11:36.967823Z",
     "iopub.status.idle": "2025-09-08T06:11:36.968138Z",
     "shell.execute_reply": "2025-09-08T06:11:36.967997Z",
     "shell.execute_reply.started": "2025-09-08T06:11:36.967983Z"
    },
    "trusted": true
   },
   "outputs": [],
   "source": [
    "full_df"
   ]
  },
  {
   "cell_type": "code",
   "execution_count": null,
   "metadata": {
    "execution": {
     "iopub.status.busy": "2025-09-08T06:11:36.969653Z",
     "iopub.status.idle": "2025-09-08T06:11:36.969969Z",
     "shell.execute_reply": "2025-09-08T06:11:36.969814Z",
     "shell.execute_reply.started": "2025-09-08T06:11:36.969801Z"
    },
    "trusted": true
   },
   "outputs": [],
   "source": [
    "full_df.columns"
   ]
  },
  {
   "cell_type": "code",
   "execution_count": null,
   "metadata": {
    "execution": {
     "iopub.status.busy": "2025-09-08T06:11:36.970776Z",
     "iopub.status.idle": "2025-09-08T06:11:36.971097Z",
     "shell.execute_reply": "2025-09-08T06:11:36.970955Z",
     "shell.execute_reply.started": "2025-09-08T06:11:36.970941Z"
    },
    "trusted": true
   },
   "outputs": [],
   "source": [
    "full_df[full_df[\"type\"] == \"train\"].drop(columns=\"type\").to_parquet(\n",
    "    \"/kaggle/working/selected_blocks_train_missing_imputed_feature_engg.parquet\"\n",
    ")\n",
    "full_df[full_df[\"type\"] == \"val\"].drop(columns=\"type\").to_parquet(\n",
    "    \"/kaggle/working/selected_blocks_val_missing_imputed_feature_engg.parquet\"\n",
    ")\n",
    "full_df[full_df[\"type\"] == \"test\"].drop(columns=\"type\").to_parquet(\n",
    "    \"/kaggle/working/selected_blocks_test_missing_imputed_feature_engg.parquet\"\n",
    ")"
   ]
  },
  {
   "cell_type": "code",
   "execution_count": 19,
   "metadata": {
    "execution": {
     "iopub.execute_input": "2025-09-08T06:13:28.066112Z",
     "iopub.status.busy": "2025-09-08T06:13:28.065329Z",
     "iopub.status.idle": "2025-09-08T06:13:32.320013Z",
     "shell.execute_reply": "2025-09-08T06:13:32.319189Z",
     "shell.execute_reply.started": "2025-09-08T06:13:28.066085Z"
    },
    "trusted": true
   },
   "outputs": [],
   "source": [
    "train_df = pd.read_parquet(\"/kaggle/input/data-power/selected_blocks_train_missing_imputed_feature_engg.parquet\")\n",
    "val_df = pd.read_parquet(\"/kaggle/input/data-power/selected_blocks_val_missing_imputed_feature_engg.parquet\")\n",
    "test_df = pd.read_parquet(\"/kaggle/input/data-power/selected_blocks_test_missing_imputed_feature_engg.parquet\")"
   ]
  },
  {
   "cell_type": "code",
   "execution_count": 20,
   "metadata": {
    "execution": {
     "iopub.execute_input": "2025-09-08T06:13:35.556975Z",
     "iopub.status.busy": "2025-09-08T06:13:35.556188Z",
     "iopub.status.idle": "2025-09-08T06:13:36.947274Z",
     "shell.execute_reply": "2025-09-08T06:13:36.946455Z",
     "shell.execute_reply.started": "2025-09-08T06:13:35.556942Z"
    },
    "trusted": true
   },
   "outputs": [],
   "source": [
    "import pandas as pd\n",
    "train_df = pd.concat([train_df, val_df])\n",
    "del val_df"
   ]
  },
  {
   "cell_type": "code",
   "execution_count": 21,
   "metadata": {
    "execution": {
     "iopub.execute_input": "2025-09-08T06:13:38.836570Z",
     "iopub.status.busy": "2025-09-08T06:13:38.836064Z",
     "iopub.status.idle": "2025-09-08T06:13:43.453953Z",
     "shell.execute_reply": "2025-09-08T06:13:43.453262Z",
     "shell.execute_reply.started": "2025-09-08T06:13:38.836546Z"
    },
    "trusted": true
   },
   "outputs": [
    {
     "data": {
      "text/html": [
       "<div>\n",
       "<style scoped>\n",
       "    .dataframe tbody tr th:only-of-type {\n",
       "        vertical-align: middle;\n",
       "    }\n",
       "\n",
       "    .dataframe tbody tr th {\n",
       "        vertical-align: top;\n",
       "    }\n",
       "\n",
       "    .dataframe thead th {\n",
       "        text-align: right;\n",
       "    }\n",
       "</style>\n",
       "<table border=\"1\" class=\"dataframe\">\n",
       "  <thead>\n",
       "    <tr style=\"text-align: right;\">\n",
       "      <th></th>\n",
       "      <th>timestamp</th>\n",
       "      <th>LCLid</th>\n",
       "      <th>frequency</th>\n",
       "      <th>timestamp_Week</th>\n",
       "      <th>series_length</th>\n",
       "      <th>stdorToU</th>\n",
       "      <th>Acorn</th>\n",
       "      <th>Acorn_grouped</th>\n",
       "      <th>file</th>\n",
       "      <th>holidays</th>\n",
       "      <th>...</th>\n",
       "      <th>timestamp_Is_quarter_start</th>\n",
       "      <th>timestamp_Is_year_end</th>\n",
       "      <th>timestamp_Is_year_start</th>\n",
       "      <th>timestamp_Is_month_start</th>\n",
       "      <th>timestamp_Day</th>\n",
       "      <th>timestamp_Dayofweek</th>\n",
       "      <th>timestamp_Dayofyear</th>\n",
       "      <th>timestamp_Hour</th>\n",
       "      <th>timestamp_Minute</th>\n",
       "      <th>timestamp_Elapsed</th>\n",
       "    </tr>\n",
       "  </thead>\n",
       "  <tbody>\n",
       "    <tr>\n",
       "      <th>3619152</th>\n",
       "      <td>2012-01-01 00:00:00</td>\n",
       "      <td>MAC000061</td>\n",
       "      <td>30min</td>\n",
       "      <td>52</td>\n",
       "      <td>37872</td>\n",
       "      <td>Std</td>\n",
       "      <td>ACORN-Q</td>\n",
       "      <td>Adversity</td>\n",
       "      <td>block_96</td>\n",
       "      <td>NO_HOLIDAY</td>\n",
       "      <td>...</td>\n",
       "      <td>1</td>\n",
       "      <td>0</td>\n",
       "      <td>1</td>\n",
       "      <td>1</td>\n",
       "      <td>1</td>\n",
       "      <td>6</td>\n",
       "      <td>1</td>\n",
       "      <td>0</td>\n",
       "      <td>0</td>\n",
       "      <td>1325376000</td>\n",
       "    </tr>\n",
       "    <tr>\n",
       "      <th>3619153</th>\n",
       "      <td>2012-01-01 00:30:00</td>\n",
       "      <td>MAC000061</td>\n",
       "      <td>30min</td>\n",
       "      <td>52</td>\n",
       "      <td>37872</td>\n",
       "      <td>Std</td>\n",
       "      <td>ACORN-Q</td>\n",
       "      <td>Adversity</td>\n",
       "      <td>block_96</td>\n",
       "      <td>NO_HOLIDAY</td>\n",
       "      <td>...</td>\n",
       "      <td>1</td>\n",
       "      <td>0</td>\n",
       "      <td>1</td>\n",
       "      <td>1</td>\n",
       "      <td>1</td>\n",
       "      <td>6</td>\n",
       "      <td>1</td>\n",
       "      <td>0</td>\n",
       "      <td>30</td>\n",
       "      <td>1325377800</td>\n",
       "    </tr>\n",
       "    <tr>\n",
       "      <th>3619154</th>\n",
       "      <td>2012-01-01 01:00:00</td>\n",
       "      <td>MAC000061</td>\n",
       "      <td>30min</td>\n",
       "      <td>52</td>\n",
       "      <td>37872</td>\n",
       "      <td>Std</td>\n",
       "      <td>ACORN-Q</td>\n",
       "      <td>Adversity</td>\n",
       "      <td>block_96</td>\n",
       "      <td>NO_HOLIDAY</td>\n",
       "      <td>...</td>\n",
       "      <td>1</td>\n",
       "      <td>0</td>\n",
       "      <td>1</td>\n",
       "      <td>1</td>\n",
       "      <td>1</td>\n",
       "      <td>6</td>\n",
       "      <td>1</td>\n",
       "      <td>1</td>\n",
       "      <td>0</td>\n",
       "      <td>1325379600</td>\n",
       "    </tr>\n",
       "    <tr>\n",
       "      <th>3619155</th>\n",
       "      <td>2012-01-01 01:30:00</td>\n",
       "      <td>MAC000061</td>\n",
       "      <td>30min</td>\n",
       "      <td>52</td>\n",
       "      <td>37872</td>\n",
       "      <td>Std</td>\n",
       "      <td>ACORN-Q</td>\n",
       "      <td>Adversity</td>\n",
       "      <td>block_96</td>\n",
       "      <td>NO_HOLIDAY</td>\n",
       "      <td>...</td>\n",
       "      <td>1</td>\n",
       "      <td>0</td>\n",
       "      <td>1</td>\n",
       "      <td>1</td>\n",
       "      <td>1</td>\n",
       "      <td>6</td>\n",
       "      <td>1</td>\n",
       "      <td>1</td>\n",
       "      <td>30</td>\n",
       "      <td>1325381400</td>\n",
       "    </tr>\n",
       "    <tr>\n",
       "      <th>3619156</th>\n",
       "      <td>2012-01-01 02:00:00</td>\n",
       "      <td>MAC000061</td>\n",
       "      <td>30min</td>\n",
       "      <td>52</td>\n",
       "      <td>37872</td>\n",
       "      <td>Std</td>\n",
       "      <td>ACORN-Q</td>\n",
       "      <td>Adversity</td>\n",
       "      <td>block_96</td>\n",
       "      <td>NO_HOLIDAY</td>\n",
       "      <td>...</td>\n",
       "      <td>1</td>\n",
       "      <td>0</td>\n",
       "      <td>1</td>\n",
       "      <td>1</td>\n",
       "      <td>1</td>\n",
       "      <td>6</td>\n",
       "      <td>1</td>\n",
       "      <td>2</td>\n",
       "      <td>0</td>\n",
       "      <td>1325383200</td>\n",
       "    </tr>\n",
       "    <tr>\n",
       "      <th>...</th>\n",
       "      <td>...</td>\n",
       "      <td>...</td>\n",
       "      <td>...</td>\n",
       "      <td>...</td>\n",
       "      <td>...</td>\n",
       "      <td>...</td>\n",
       "      <td>...</td>\n",
       "      <td>...</td>\n",
       "      <td>...</td>\n",
       "      <td>...</td>\n",
       "      <td>...</td>\n",
       "      <td>...</td>\n",
       "      <td>...</td>\n",
       "      <td>...</td>\n",
       "      <td>...</td>\n",
       "      <td>...</td>\n",
       "      <td>...</td>\n",
       "      <td>...</td>\n",
       "      <td>...</td>\n",
       "      <td>...</td>\n",
       "      <td>...</td>\n",
       "    </tr>\n",
       "    <tr>\n",
       "      <th>221707</th>\n",
       "      <td>2014-01-31 21:30:00</td>\n",
       "      <td>MAC005529</td>\n",
       "      <td>30min</td>\n",
       "      <td>5</td>\n",
       "      <td>32688</td>\n",
       "      <td>ToU</td>\n",
       "      <td>ACORN-L</td>\n",
       "      <td>Adversity</td>\n",
       "      <td>block_82</td>\n",
       "      <td>NO_HOLIDAY</td>\n",
       "      <td>...</td>\n",
       "      <td>0</td>\n",
       "      <td>0</td>\n",
       "      <td>0</td>\n",
       "      <td>0</td>\n",
       "      <td>31</td>\n",
       "      <td>4</td>\n",
       "      <td>31</td>\n",
       "      <td>21</td>\n",
       "      <td>30</td>\n",
       "      <td>1391203800</td>\n",
       "    </tr>\n",
       "    <tr>\n",
       "      <th>221708</th>\n",
       "      <td>2014-01-31 22:00:00</td>\n",
       "      <td>MAC005529</td>\n",
       "      <td>30min</td>\n",
       "      <td>5</td>\n",
       "      <td>32688</td>\n",
       "      <td>ToU</td>\n",
       "      <td>ACORN-L</td>\n",
       "      <td>Adversity</td>\n",
       "      <td>block_82</td>\n",
       "      <td>NO_HOLIDAY</td>\n",
       "      <td>...</td>\n",
       "      <td>0</td>\n",
       "      <td>0</td>\n",
       "      <td>0</td>\n",
       "      <td>0</td>\n",
       "      <td>31</td>\n",
       "      <td>4</td>\n",
       "      <td>31</td>\n",
       "      <td>22</td>\n",
       "      <td>0</td>\n",
       "      <td>1391205600</td>\n",
       "    </tr>\n",
       "    <tr>\n",
       "      <th>221709</th>\n",
       "      <td>2014-01-31 22:30:00</td>\n",
       "      <td>MAC005529</td>\n",
       "      <td>30min</td>\n",
       "      <td>5</td>\n",
       "      <td>32688</td>\n",
       "      <td>ToU</td>\n",
       "      <td>ACORN-L</td>\n",
       "      <td>Adversity</td>\n",
       "      <td>block_82</td>\n",
       "      <td>NO_HOLIDAY</td>\n",
       "      <td>...</td>\n",
       "      <td>0</td>\n",
       "      <td>0</td>\n",
       "      <td>0</td>\n",
       "      <td>0</td>\n",
       "      <td>31</td>\n",
       "      <td>4</td>\n",
       "      <td>31</td>\n",
       "      <td>22</td>\n",
       "      <td>30</td>\n",
       "      <td>1391207400</td>\n",
       "    </tr>\n",
       "    <tr>\n",
       "      <th>221710</th>\n",
       "      <td>2014-01-31 23:00:00</td>\n",
       "      <td>MAC005529</td>\n",
       "      <td>30min</td>\n",
       "      <td>5</td>\n",
       "      <td>32688</td>\n",
       "      <td>ToU</td>\n",
       "      <td>ACORN-L</td>\n",
       "      <td>Adversity</td>\n",
       "      <td>block_82</td>\n",
       "      <td>NO_HOLIDAY</td>\n",
       "      <td>...</td>\n",
       "      <td>0</td>\n",
       "      <td>0</td>\n",
       "      <td>0</td>\n",
       "      <td>0</td>\n",
       "      <td>31</td>\n",
       "      <td>4</td>\n",
       "      <td>31</td>\n",
       "      <td>23</td>\n",
       "      <td>0</td>\n",
       "      <td>1391209200</td>\n",
       "    </tr>\n",
       "    <tr>\n",
       "      <th>221711</th>\n",
       "      <td>2014-01-31 23:30:00</td>\n",
       "      <td>MAC005529</td>\n",
       "      <td>30min</td>\n",
       "      <td>5</td>\n",
       "      <td>32688</td>\n",
       "      <td>ToU</td>\n",
       "      <td>ACORN-L</td>\n",
       "      <td>Adversity</td>\n",
       "      <td>block_82</td>\n",
       "      <td>NO_HOLIDAY</td>\n",
       "      <td>...</td>\n",
       "      <td>0</td>\n",
       "      <td>0</td>\n",
       "      <td>0</td>\n",
       "      <td>0</td>\n",
       "      <td>31</td>\n",
       "      <td>4</td>\n",
       "      <td>31</td>\n",
       "      <td>23</td>\n",
       "      <td>30</td>\n",
       "      <td>1391211000</td>\n",
       "    </tr>\n",
       "  </tbody>\n",
       "</table>\n",
       "<p>5518656 rows × 53 columns</p>\n",
       "</div>"
      ],
      "text/plain": [
       "                  timestamp      LCLid frequency  timestamp_Week  \\\n",
       "3619152 2012-01-01 00:00:00  MAC000061     30min              52   \n",
       "3619153 2012-01-01 00:30:00  MAC000061     30min              52   \n",
       "3619154 2012-01-01 01:00:00  MAC000061     30min              52   \n",
       "3619155 2012-01-01 01:30:00  MAC000061     30min              52   \n",
       "3619156 2012-01-01 02:00:00  MAC000061     30min              52   \n",
       "...                     ...        ...       ...             ...   \n",
       "221707  2014-01-31 21:30:00  MAC005529     30min               5   \n",
       "221708  2014-01-31 22:00:00  MAC005529     30min               5   \n",
       "221709  2014-01-31 22:30:00  MAC005529     30min               5   \n",
       "221710  2014-01-31 23:00:00  MAC005529     30min               5   \n",
       "221711  2014-01-31 23:30:00  MAC005529     30min               5   \n",
       "\n",
       "         series_length stdorToU    Acorn Acorn_grouped      file    holidays  \\\n",
       "3619152          37872      Std  ACORN-Q     Adversity  block_96  NO_HOLIDAY   \n",
       "3619153          37872      Std  ACORN-Q     Adversity  block_96  NO_HOLIDAY   \n",
       "3619154          37872      Std  ACORN-Q     Adversity  block_96  NO_HOLIDAY   \n",
       "3619155          37872      Std  ACORN-Q     Adversity  block_96  NO_HOLIDAY   \n",
       "3619156          37872      Std  ACORN-Q     Adversity  block_96  NO_HOLIDAY   \n",
       "...                ...      ...      ...           ...       ...         ...   \n",
       "221707           32688      ToU  ACORN-L     Adversity  block_82  NO_HOLIDAY   \n",
       "221708           32688      ToU  ACORN-L     Adversity  block_82  NO_HOLIDAY   \n",
       "221709           32688      ToU  ACORN-L     Adversity  block_82  NO_HOLIDAY   \n",
       "221710           32688      ToU  ACORN-L     Adversity  block_82  NO_HOLIDAY   \n",
       "221711           32688      ToU  ACORN-L     Adversity  block_82  NO_HOLIDAY   \n",
       "\n",
       "         ...  timestamp_Is_quarter_start  timestamp_Is_year_end  \\\n",
       "3619152  ...                           1                      0   \n",
       "3619153  ...                           1                      0   \n",
       "3619154  ...                           1                      0   \n",
       "3619155  ...                           1                      0   \n",
       "3619156  ...                           1                      0   \n",
       "...      ...                         ...                    ...   \n",
       "221707   ...                           0                      0   \n",
       "221708   ...                           0                      0   \n",
       "221709   ...                           0                      0   \n",
       "221710   ...                           0                      0   \n",
       "221711   ...                           0                      0   \n",
       "\n",
       "         timestamp_Is_year_start  timestamp_Is_month_start  timestamp_Day  \\\n",
       "3619152                        1                         1              1   \n",
       "3619153                        1                         1              1   \n",
       "3619154                        1                         1              1   \n",
       "3619155                        1                         1              1   \n",
       "3619156                        1                         1              1   \n",
       "...                          ...                       ...            ...   \n",
       "221707                         0                         0             31   \n",
       "221708                         0                         0             31   \n",
       "221709                         0                         0             31   \n",
       "221710                         0                         0             31   \n",
       "221711                         0                         0             31   \n",
       "\n",
       "         timestamp_Dayofweek  timestamp_Dayofyear timestamp_Hour  \\\n",
       "3619152                    6                    1              0   \n",
       "3619153                    6                    1              0   \n",
       "3619154                    6                    1              1   \n",
       "3619155                    6                    1              1   \n",
       "3619156                    6                    1              2   \n",
       "...                      ...                  ...            ...   \n",
       "221707                     4                   31             21   \n",
       "221708                     4                   31             22   \n",
       "221709                     4                   31             22   \n",
       "221710                     4                   31             23   \n",
       "221711                     4                   31             23   \n",
       "\n",
       "        timestamp_Minute  timestamp_Elapsed  \n",
       "3619152                0         1325376000  \n",
       "3619153               30         1325377800  \n",
       "3619154                0         1325379600  \n",
       "3619155               30         1325381400  \n",
       "3619156                0         1325383200  \n",
       "...                  ...                ...  \n",
       "221707                30         1391203800  \n",
       "221708                 0         1391205600  \n",
       "221709                30         1391207400  \n",
       "221710                 0         1391209200  \n",
       "221711                30         1391211000  \n",
       "\n",
       "[5518656 rows x 53 columns]"
      ]
     },
     "execution_count": 21,
     "metadata": {},
     "output_type": "execute_result"
    }
   ],
   "source": [
    "train_df"
   ]
  },
  {
   "cell_type": "code",
   "execution_count": 22,
   "metadata": {
    "execution": {
     "iopub.execute_input": "2025-09-08T06:13:53.689591Z",
     "iopub.status.busy": "2025-09-08T06:13:53.689306Z",
     "iopub.status.idle": "2025-09-08T06:13:53.702511Z",
     "shell.execute_reply": "2025-09-08T06:13:53.701721Z",
     "shell.execute_reply.started": "2025-09-08T06:13:53.689572Z"
    },
    "trusted": true
   },
   "outputs": [
    {
     "name": "stdout",
     "output_type": "stream",
     "text": [
      "<class 'pandas.core.frame.DataFrame'>\n",
      "Index: 5518656 entries, 3619152 to 221711\n",
      "Data columns (total 53 columns):\n",
      " #   Column                      Dtype         \n",
      "---  ------                      -----         \n",
      " 0   timestamp                   datetime64[ns]\n",
      " 1   LCLid                       object        \n",
      " 2   frequency                   object        \n",
      " 3   timestamp_Week              int32         \n",
      " 4   series_length               int64         \n",
      " 5   stdorToU                    object        \n",
      " 6   Acorn                       object        \n",
      " 7   Acorn_grouped               object        \n",
      " 8   file                        object        \n",
      " 9   holidays                    object        \n",
      " 10  visibility                  float64       \n",
      " 11  windBearing                 int64         \n",
      " 12  temperature                 float64       \n",
      " 13  dewPoint                    float64       \n",
      " 14  pressure                    float64       \n",
      " 15  apparentTemperature         float64       \n",
      " 16  windSpeed                   float64       \n",
      " 17  precipType                  object        \n",
      " 18  icon                        object        \n",
      " 19  humidity                    float64       \n",
      " 20  summary                     object        \n",
      " 21  hour                        int32         \n",
      " 22  weekday                     int32         \n",
      " 23  day_hourly_profile          float64       \n",
      " 24  energy_consumption          float64       \n",
      " 25  energy_consumption_lag_1    float32       \n",
      " 26  energy_consumption_lag_2    float32       \n",
      " 27  energy_consumption_lag_3    float32       \n",
      " 28  energy_consumption_lag_4    float32       \n",
      " 29  energy_consumption_lag_5    float32       \n",
      " 30  energy_consumption_lag_46   float32       \n",
      " 31  energy_consumption_lag_47   float32       \n",
      " 32  energy_consumption_lag_48   float32       \n",
      " 33  energy_consumption_lag_49   float32       \n",
      " 34  energy_consumption_lag_50   float32       \n",
      " 35  energy_consumption_lag_334  float32       \n",
      " 36  energy_consumption_lag_335  float32       \n",
      " 37  energy_consumption_lag_336  float32       \n",
      " 38  energy_consumption_lag_337  float32       \n",
      " 39  energy_consumption_lag_338  float32       \n",
      " 40  timestamp_Month             int32         \n",
      " 41  timestamp_Quarter           int32         \n",
      " 42  timestamp_Is_quarter_end    int32         \n",
      " 43  timestamp_Is_quarter_start  int32         \n",
      " 44  timestamp_Is_year_end       int32         \n",
      " 45  timestamp_Is_year_start     int32         \n",
      " 46  timestamp_Is_month_start    int32         \n",
      " 47  timestamp_Day               int32         \n",
      " 48  timestamp_Dayofweek         int32         \n",
      " 49  timestamp_Dayofyear         int32         \n",
      " 50  timestamp_Hour              int32         \n",
      " 51  timestamp_Minute            int32         \n",
      " 52  timestamp_Elapsed           int32         \n",
      "dtypes: datetime64[ns](1), float32(15), float64(9), int32(16), int64(2), object(10)\n",
      "memory usage: 1.6+ GB\n"
     ]
    }
   ],
   "source": [
    "train_df.info()"
   ]
  },
  {
   "cell_type": "code",
   "execution_count": 23,
   "metadata": {
    "execution": {
     "iopub.execute_input": "2025-09-08T06:14:00.895253Z",
     "iopub.status.busy": "2025-09-08T06:14:00.894889Z",
     "iopub.status.idle": "2025-09-08T06:14:00.900760Z",
     "shell.execute_reply": "2025-09-08T06:14:00.899948Z",
     "shell.execute_reply.started": "2025-09-08T06:14:00.895225Z"
    },
    "trusted": true
   },
   "outputs": [],
   "source": [
    "target=[\"energy_consumption\"]\n",
    "continuous_features=[\n",
    "    \"visibility\",\n",
    "    \"windBearing\",\n",
    "    \"temperature\",\n",
    "    \"dewPoint\",\n",
    "    \"pressure\",\n",
    "    \"apparentTemperature\",\n",
    "    \"windSpeed\",\n",
    "    \"humidity\",\n",
    "    \"energy_consumption_lag_1\",\n",
    "    \"energy_consumption_lag_2\",\n",
    "    \"energy_consumption_lag_3\",\n",
    "    \"energy_consumption_lag_4\",\n",
    "    \"energy_consumption_lag_5\",\n",
    "    \"energy_consumption_lag_46\",\n",
    "    \"energy_consumption_lag_47\",\n",
    "    \"energy_consumption_lag_48\",\n",
    "    \"energy_consumption_lag_49\",\n",
    "    \"energy_consumption_lag_50\",\n",
    "    \"energy_consumption_lag_334\",\n",
    "    \"energy_consumption_lag_335\",\n",
    "    \"energy_consumption_lag_336\",\n",
    "    \"energy_consumption_lag_337\",\n",
    "    \"energy_consumption_lag_338\",\n",
    "    \"timestamp_Elapsed\",\n",
    "    \"day_hourly_profile\",\n",
    "]\n",
    "categorical_features=[\n",
    "    \"stdorToU\",\n",
    "    \"Acorn\",\n",
    "    \"Acorn_grouped\",\n",
    "    \"holidays\",\n",
    "    \"precipType\",\n",
    "    \"icon\",\n",
    "    \"summary\",\n",
    "    \"timestamp_Month\",\n",
    "    \"timestamp_Quarter\",\n",
    "    \"timestamp_Week\",\n",
    "    \"timestamp_Day\",\n",
    "    \"timestamp_Dayofweek\",\n",
    "    \"timestamp_Dayofyear\",\n",
    "    \"timestamp_Hour\",\n",
    "    \"timestamp_Minute\",\n",
    "    \"weekday\",\n",
    "    \"hour\",\n",
    "]\n",
    "boolean_features=[\n",
    "    \"timestamp_Is_quarter_end\",\n",
    "    \"timestamp_Is_quarter_start\",\n",
    "    \"timestamp_Is_year_end\",\n",
    "    \"timestamp_Is_year_start\",\n",
    "    \"timestamp_Is_month_start\",\n",
    "]"
   ]
  },
  {
   "cell_type": "code",
   "execution_count": 24,
   "metadata": {
    "execution": {
     "iopub.execute_input": "2025-09-08T06:14:07.696734Z",
     "iopub.status.busy": "2025-09-08T06:14:07.696005Z",
     "iopub.status.idle": "2025-09-08T06:14:16.652270Z",
     "shell.execute_reply": "2025-09-08T06:14:16.651445Z",
     "shell.execute_reply.started": "2025-09-08T06:14:07.696709Z"
    },
    "trusted": true
   },
   "outputs": [],
   "source": [
    "train_df_ts = train_df.copy()\n",
    "train_df_ts[\"timestamp\"] = pd.to_datetime(train_df_ts[\"timestamp\"], yearfirst=True)\n",
    "train_df_ts = train_df_ts.set_index(['timestamp', 'LCLid'])\n",
    "lcl_ids = sorted(train_df.LCLid.unique())\n",
    "for lcl_id in lcl_ids:\n",
    "    lcl_id_data = train_df_ts.xs(lcl_id, level='LCLid')\n",
    "    lcl_id_data = lcl_id_data.asfreq('30min')\n",
    "train_df_ts = train_df_ts.drop(['frequency', 'file'], axis=1)"
   ]
  },
  {
   "cell_type": "code",
   "execution_count": 25,
   "metadata": {
    "execution": {
     "iopub.execute_input": "2025-09-08T06:14:20.837066Z",
     "iopub.status.busy": "2025-09-08T06:14:20.836326Z",
     "iopub.status.idle": "2025-09-08T06:14:20.841032Z",
     "shell.execute_reply": "2025-09-08T06:14:20.840350Z",
     "shell.execute_reply.started": "2025-09-08T06:14:20.837039Z"
    },
    "trusted": true
   },
   "outputs": [],
   "source": [
    "bfill_columns=[\n",
    "    \"pressure\",\n",
    "    \"energy_consumption_lag_1\",\n",
    "    \"energy_consumption_lag_2\",\n",
    "    \"energy_consumption_lag_3\",\n",
    "    \"energy_consumption_lag_4\",\n",
    "    \"energy_consumption_lag_5\",\n",
    "    \"energy_consumption_lag_46\",\n",
    "    \"energy_consumption_lag_47\",\n",
    "    \"energy_consumption_lag_48\",\n",
    "    \"energy_consumption_lag_49\",\n",
    "    \"energy_consumption_lag_50\",\n",
    "    \"energy_consumption_lag_334\",\n",
    "    \"energy_consumption_lag_335\",\n",
    "    \"energy_consumption_lag_336\",\n",
    "    \"energy_consumption_lag_337\",\n",
    "    \"energy_consumption_lag_338\",\n",
    "]\n",
    "n_hashed_features = 32\n",
    "hashed_features_list_train = []"
   ]
  },
  {
   "cell_type": "code",
   "execution_count": 26,
   "metadata": {
    "execution": {
     "iopub.execute_input": "2025-09-08T06:14:25.940421Z",
     "iopub.status.busy": "2025-09-08T06:14:25.939477Z",
     "iopub.status.idle": "2025-09-08T06:16:49.397482Z",
     "shell.execute_reply": "2025-09-08T06:16:49.396842Z",
     "shell.execute_reply.started": "2025-09-08T06:14:25.940395Z"
    },
    "trusted": true
   },
   "outputs": [
    {
     "name": "stdout",
     "output_type": "stream",
     "text": [
      "Handling missing values...\n"
     ]
    },
    {
     "name": "stderr",
     "output_type": "stream",
     "text": [
      "/kaggle/input/lib-power-prediction/lib/model_utils.py:651: FutureWarning: DataFrame.fillna with 'method' is deprecated and will raise in a future version. Use obj.ffill() or obj.bfill() instead.\n",
      "  df[bfill_cols] = df[bfill_cols].fillna(method=\"bfill\")\n"
     ]
    },
    {
     "name": "stdout",
     "output_type": "stream",
     "text": [
      "Encoding categorical features...\n",
      "Normalizing features...\n"
     ]
    }
   ],
   "source": [
    "processed_train = preprocess_features(train_df_ts, continuous_features, categorical_features, boolean_features,\n",
    "                                      n_hashed_features, hashed_features_list_train, bfill_columns)"
   ]
  },
  {
   "cell_type": "code",
   "execution_count": 27,
   "metadata": {
    "execution": {
     "iopub.execute_input": "2025-09-08T06:17:00.964869Z",
     "iopub.status.busy": "2025-09-08T06:17:00.964230Z",
     "iopub.status.idle": "2025-09-08T06:17:01.386499Z",
     "shell.execute_reply": "2025-09-08T06:17:01.385886Z",
     "shell.execute_reply.started": "2025-09-08T06:17:00.964846Z"
    },
    "trusted": true
   },
   "outputs": [],
   "source": [
    "test_df_ts = test_df.copy()\n",
    "test_df_ts[\"timestamp\"] = pd.to_datetime(test_df_ts[\"timestamp\"], yearfirst=True)\n",
    "test_df_ts = test_df_ts.set_index(['timestamp', 'LCLid'])\n",
    "lcl_ids = sorted(test_df.LCLid.unique())\n",
    "for lcl_id in lcl_ids:\n",
    "    lcl_id_data = test_df_ts.xs(lcl_id, level='LCLid')\n",
    "    lcl_id_data = lcl_id_data.asfreq('30min')\n",
    "test_df_ts = test_df_ts.drop(['frequency', 'file'], axis=1)"
   ]
  },
  {
   "cell_type": "code",
   "execution_count": 28,
   "metadata": {
    "execution": {
     "iopub.execute_input": "2025-09-08T06:17:04.150145Z",
     "iopub.status.busy": "2025-09-08T06:17:04.149802Z",
     "iopub.status.idle": "2025-09-08T06:17:10.476837Z",
     "shell.execute_reply": "2025-09-08T06:17:10.476167Z",
     "shell.execute_reply.started": "2025-09-08T06:17:04.150121Z"
    },
    "trusted": true
   },
   "outputs": [
    {
     "name": "stdout",
     "output_type": "stream",
     "text": [
      "Handling missing values...\n",
      "Encoding categorical features...\n"
     ]
    },
    {
     "name": "stderr",
     "output_type": "stream",
     "text": [
      "/kaggle/input/lib-power-prediction/lib/model_utils.py:651: FutureWarning: DataFrame.fillna with 'method' is deprecated and will raise in a future version. Use obj.ffill() or obj.bfill() instead.\n",
      "  df[bfill_cols] = df[bfill_cols].fillna(method=\"bfill\")\n"
     ]
    },
    {
     "name": "stdout",
     "output_type": "stream",
     "text": [
      "Normalizing features...\n"
     ]
    }
   ],
   "source": [
    "hashed_features_list_test = []\n",
    "processed_test = preprocess_features(test_df_ts, continuous_features, categorical_features, boolean_features,\n",
    "                                      n_hashed_features, hashed_features_list_test, bfill_columns)"
   ]
  },
  {
   "cell_type": "code",
   "execution_count": 29,
   "metadata": {
    "execution": {
     "iopub.execute_input": "2025-09-08T06:17:18.386061Z",
     "iopub.status.busy": "2025-09-08T06:17:18.385748Z",
     "iopub.status.idle": "2025-09-08T06:17:18.415830Z",
     "shell.execute_reply": "2025-09-08T06:17:18.415253Z",
     "shell.execute_reply.started": "2025-09-08T06:17:18.386041Z"
    },
    "trusted": true
   },
   "outputs": [],
   "source": [
    "# Model configurations\n",
    "lstm_config = {\n",
    "    'name': 'LSTM',\n",
    "    'class': RNNModel,\n",
    "    'params': {\n",
    "        'model': \"LSTM\",\n",
    "        'input_chunk_length': 96,   \n",
    "        'output_chunk_length': 48,\n",
    "        'training_length': 144,\n",
    "        'hidden_dim': 16,           \n",
    "        'n_rnn_layers': 1,         \n",
    "        'dropout': 0.0,             \n",
    "        'batch_size': 32,\n",
    "        'n_epochs': 2,\n",
    "        'optimizer_kwargs': {'lr': 0.001},\n",
    "        'pl_trainer_kwargs': {\n",
    "            'accelerator': \"gpu\" if torch.cuda.is_available() else \"cpu\",\n",
    "            'devices': 1\n",
    "        }\n",
    "    }\n",
    "}\n",
    "\n",
    "nbeats_config = {\n",
    "    'name': 'N-BEATS',\n",
    "    'class': NBEATSModel,\n",
    "    'params': {\n",
    "        'input_chunk_length': 96,\n",
    "        'output_chunk_length': 48,\n",
    "        'generic_architecture': True,\n",
    "        'num_stacks': 2,\n",
    "        'num_blocks': 2,\n",
    "        'num_layers': 2,\n",
    "        'layer_widths': 64,\n",
    "        'n_epochs': 2,\n",
    "        'batch_size': 32,\n",
    "        'pl_trainer_kwargs': {\n",
    "            'accelerator': \"gpu\" if torch.cuda.is_available() else \"cpu\",\n",
    "            'devices': 1\n",
    "        }\n",
    "    }\n",
    "}\n",
    "tsmixer_config = {\n",
    "    'name': 'TSMixer',\n",
    "    'class': TSMixerModel,\n",
    "    'params': {\n",
    "        'input_chunk_length': 96,\n",
    "        'output_chunk_length': 48,\n",
    "        'hidden_size': 64,\n",
    "        'ff_size': 64,\n",
    "        'num_blocks': 2,\n",
    "        'activation': 'ReLU',\n",
    "        'dropout': 0.2,\n",
    "        'norm_type': 'LayerNorm',\n",
    "        'normalize_before': False,\n",
    "        'use_static_covariates': True,\n",
    "        'n_epochs': 2,\n",
    "        'batch_size': 32,\n",
    "        'pl_trainer_kwargs': {\n",
    "            'accelerator': \"gpu\" if torch.cuda.is_available() else \"cpu\",\n",
    "            'devices': 1\n",
    "        }\n",
    "    }\n",
    "}"
   ]
  },
  {
   "cell_type": "code",
   "execution_count": 30,
   "metadata": {
    "execution": {
     "iopub.execute_input": "2025-09-08T06:17:29.599999Z",
     "iopub.status.busy": "2025-09-08T06:17:29.599401Z",
     "iopub.status.idle": "2025-09-08T06:17:29.960836Z",
     "shell.execute_reply": "2025-09-08T06:17:29.960174Z",
     "shell.execute_reply.started": "2025-09-08T06:17:29.599974Z"
    },
    "trusted": true
   },
   "outputs": [
    {
     "name": "stdout",
     "output_type": "stream",
     "text": [
      "Training on 185 households\n"
     ]
    }
   ],
   "source": [
    "# 1. Get unique household IDs\n",
    "household_ids = processed_train.index.get_level_values('LCLid').unique()\n",
    "print(f\"Training on {len(household_ids)} households\")\n",
    "# 2. Initialize Scalers\n",
    "target_scaler = Scaler()\n",
    "covariates_scaler = Scaler()\n",
    "# 3. Create empty lists to store series\n",
    "train_series_list = []\n",
    "train_covariates_list = []\n",
    "test_series_list = []\n",
    "test_covariates_list = []\n",
    "all_predictions = []\n",
    "all_metrics = []\n",
    "WORKING_DIR = Path(\"/kaggle/working\")\n",
    "\n",
    "output_predictions_tsmixer = WORKING_DIR / \"tsmixer_test_predictions.parquet\"\n",
    "output_metrics_tsmixer = WORKING_DIR / \"tsmixer_test_metrics.parquet\"\n",
    "\n",
    "output_predictions_lstm = WORKING_DIR / \"lstm_test_predictions.parquet\"\n",
    "output_metrics_lstm = WORKING_DIR / \"lstm_test_metrics.parquet\""
   ]
  },
  {
   "cell_type": "code",
   "execution_count": 31,
   "metadata": {
    "execution": {
     "iopub.execute_input": "2025-09-08T06:17:32.050680Z",
     "iopub.status.busy": "2025-09-08T06:17:32.050421Z",
     "iopub.status.idle": "2025-09-08T06:18:29.358724Z",
     "shell.execute_reply": "2025-09-08T06:18:29.357827Z",
     "shell.execute_reply.started": "2025-09-08T06:17:32.050664Z"
    },
    "trusted": true
   },
   "outputs": [],
   "source": [
    "# 4. Process each household\n",
    "for i, household_id in enumerate(household_ids[:50]):\n",
    "\n",
    "    try:\n",
    "        # Extract household data\n",
    "        train_household = processed_train.xs(household_id, level=\"LCLid\")\n",
    "        test_household = processed_test.xs(household_id, level=\"LCLid\")\n",
    "\n",
    "        # Ensure target column is first\n",
    "        if 'energy_consumption' not in train_household.columns:\n",
    "            print(f\"Skipping household {household_id}: missing target column\")\n",
    "            continue\n",
    "\n",
    "        # Move target column to first position\n",
    "        cols = ['energy_consumption'] + [col for col in train_household.columns if col != 'energy_consumption']\n",
    "        train_household = train_household[cols]\n",
    "        test_household = test_household[cols]\n",
    "\n",
    "        # For each household:\n",
    "        test_start = test_household.index.min()\n",
    "        overlap_start = test_start - pd.Timedelta(days=2)  # 48 hours before test start\n",
    "\n",
    "        # Get overlap data from training set\n",
    "        overlap_data = train_household.loc[train_household.index >= overlap_start]\n",
    "\n",
    "        # Combine overlap with test data\n",
    "        combined_test = pd.concat([overlap_data, test_household])\n",
    "\n",
    "        # Convert to TimeSeries\n",
    "        series_train = TimeSeries.from_dataframe(\n",
    "            train_household,\n",
    "            value_cols=\"energy_consumption\",\n",
    "            fill_missing_dates=True,\n",
    "            freq=\"30min\"\n",
    "        )\n",
    "\n",
    "        covariates_train = TimeSeries.from_dataframe(\n",
    "            train_household.drop(\"energy_consumption\", axis=1),\n",
    "            fill_missing_dates=True,\n",
    "            freq=\"30min\"\n",
    "        )\n",
    "\n",
    "        series_test = TimeSeries.from_dataframe(\n",
    "            test_household,\n",
    "            value_cols=\"energy_consumption\",\n",
    "            fill_missing_dates=True,\n",
    "            freq=\"30min\"\n",
    "        )\n",
    "\n",
    "        covariates_test = TimeSeries.from_dataframe(\n",
    "            combined_test.drop(\"energy_consumption\", axis=1),\n",
    "            fill_missing_dates=True,\n",
    "            freq=\"30min\"\n",
    "        )\n",
    "\n",
    "        # Scale series\n",
    "        series_train_scaled = target_scaler.fit_transform(series_train)\n",
    "        series_test_scaled = target_scaler.transform(series_test)\n",
    "\n",
    "        # Scale covariates\n",
    "        covariates_train_scaled = covariates_scaler.fit_transform(covariates_train)\n",
    "        covariates_test_scaled = covariates_scaler.transform(covariates_test)\n",
    "\n",
    "        # Add to lists\n",
    "        train_series_list.append(series_train_scaled)\n",
    "        train_covariates_list.append(covariates_train_scaled)\n",
    "        test_series_list.append(series_test_scaled)\n",
    "        test_covariates_list.append(covariates_test_scaled)\n",
    "\n",
    "    except Exception as e:\n",
    "        print(f\"Error processing household {household_id}: {e}\")\n",
    "        continue"
   ]
  },
  {
   "cell_type": "code",
   "execution_count": 32,
   "metadata": {
    "execution": {
     "iopub.execute_input": "2025-09-08T06:19:16.378810Z",
     "iopub.status.busy": "2025-09-08T06:19:16.378033Z",
     "iopub.status.idle": "2025-09-08T07:11:16.135092Z",
     "shell.execute_reply": "2025-09-08T07:11:16.134316Z",
     "shell.execute_reply.started": "2025-09-08T06:19:16.378784Z"
    },
    "trusted": true
   },
   "outputs": [
    {
     "name": "stdout",
     "output_type": "stream",
     "text": [
      "Training LSTM model...\n"
     ]
    },
    {
     "data": {
      "application/vnd.jupyter.widget-view+json": {
       "model_id": "5270ca3c0efa4c06876ab03f24783f5c",
       "version_major": 2,
       "version_minor": 0
      },
      "text/plain": [
       "Training: |          | 0/? [00:00<?, ?it/s]"
      ]
     },
     "metadata": {},
     "output_type": "display_data"
    },
    {
     "data": {
      "application/vnd.jupyter.widget-view+json": {
       "model_id": "ccefc00256c34c02b2e0ecff0ab270f6",
       "version_major": 2,
       "version_minor": 0
      },
      "text/plain": [
       "Predicting: |          | 0/? [00:00<?, ?it/s]"
      ]
     },
     "metadata": {},
     "output_type": "display_data"
    },
    {
     "data": {
      "application/vnd.jupyter.widget-view+json": {
       "model_id": "ed93543fafae4bebbb4b624f80760f46",
       "version_major": 2,
       "version_minor": 0
      },
      "text/plain": [
       "Predicting: |          | 0/? [00:00<?, ?it/s]"
      ]
     },
     "metadata": {},
     "output_type": "display_data"
    },
    {
     "data": {
      "application/vnd.jupyter.widget-view+json": {
       "model_id": "b36f5406fac9491cbea556bcaed8896a",
       "version_major": 2,
       "version_minor": 0
      },
      "text/plain": [
       "Predicting: |          | 0/? [00:00<?, ?it/s]"
      ]
     },
     "metadata": {},
     "output_type": "display_data"
    },
    {
     "data": {
      "application/vnd.jupyter.widget-view+json": {
       "model_id": "ad1ddbbf71034f4aaa5d025badae12ab",
       "version_major": 2,
       "version_minor": 0
      },
      "text/plain": [
       "Predicting: |          | 0/? [00:00<?, ?it/s]"
      ]
     },
     "metadata": {},
     "output_type": "display_data"
    },
    {
     "data": {
      "application/vnd.jupyter.widget-view+json": {
       "model_id": "e1d4a21a4cc64ba1b2efb12f86ec2423",
       "version_major": 2,
       "version_minor": 0
      },
      "text/plain": [
       "Predicting: |          | 0/? [00:00<?, ?it/s]"
      ]
     },
     "metadata": {},
     "output_type": "display_data"
    },
    {
     "data": {
      "application/vnd.jupyter.widget-view+json": {
       "model_id": "754a180b15dc44d09b2d5f69e3d7ae39",
       "version_major": 2,
       "version_minor": 0
      },
      "text/plain": [
       "Predicting: |          | 0/? [00:00<?, ?it/s]"
      ]
     },
     "metadata": {},
     "output_type": "display_data"
    },
    {
     "data": {
      "application/vnd.jupyter.widget-view+json": {
       "model_id": "cecccda6eae1480380b3e32650e99c55",
       "version_major": 2,
       "version_minor": 0
      },
      "text/plain": [
       "Predicting: |          | 0/? [00:00<?, ?it/s]"
      ]
     },
     "metadata": {},
     "output_type": "display_data"
    },
    {
     "data": {
      "application/vnd.jupyter.widget-view+json": {
       "model_id": "54ea81f0aaa043f98d23a036d69f7168",
       "version_major": 2,
       "version_minor": 0
      },
      "text/plain": [
       "Predicting: |          | 0/? [00:00<?, ?it/s]"
      ]
     },
     "metadata": {},
     "output_type": "display_data"
    },
    {
     "data": {
      "application/vnd.jupyter.widget-view+json": {
       "model_id": "7df635f57cdf472b9df6ce74a73c8bff",
       "version_major": 2,
       "version_minor": 0
      },
      "text/plain": [
       "Predicting: |          | 0/? [00:00<?, ?it/s]"
      ]
     },
     "metadata": {},
     "output_type": "display_data"
    },
    {
     "data": {
      "application/vnd.jupyter.widget-view+json": {
       "model_id": "3f1270d94900477a889567e1a114920d",
       "version_major": 2,
       "version_minor": 0
      },
      "text/plain": [
       "Predicting: |          | 0/? [00:00<?, ?it/s]"
      ]
     },
     "metadata": {},
     "output_type": "display_data"
    },
    {
     "data": {
      "application/vnd.jupyter.widget-view+json": {
       "model_id": "e2db84d56168433cbea1d77518c40d58",
       "version_major": 2,
       "version_minor": 0
      },
      "text/plain": [
       "Predicting: |          | 0/? [00:00<?, ?it/s]"
      ]
     },
     "metadata": {},
     "output_type": "display_data"
    },
    {
     "data": {
      "application/vnd.jupyter.widget-view+json": {
       "model_id": "52f58d7999b1412caae3d6a576c87d83",
       "version_major": 2,
       "version_minor": 0
      },
      "text/plain": [
       "Predicting: |          | 0/? [00:00<?, ?it/s]"
      ]
     },
     "metadata": {},
     "output_type": "display_data"
    },
    {
     "data": {
      "application/vnd.jupyter.widget-view+json": {
       "model_id": "c7f75277bae44219a71b9dedcda8238d",
       "version_major": 2,
       "version_minor": 0
      },
      "text/plain": [
       "Predicting: |          | 0/? [00:00<?, ?it/s]"
      ]
     },
     "metadata": {},
     "output_type": "display_data"
    },
    {
     "data": {
      "application/vnd.jupyter.widget-view+json": {
       "model_id": "12ba16e5402246b385cba5293fee2c9d",
       "version_major": 2,
       "version_minor": 0
      },
      "text/plain": [
       "Predicting: |          | 0/? [00:00<?, ?it/s]"
      ]
     },
     "metadata": {},
     "output_type": "display_data"
    },
    {
     "data": {
      "application/vnd.jupyter.widget-view+json": {
       "model_id": "93d11f7d42db48809f6d744265742fb5",
       "version_major": 2,
       "version_minor": 0
      },
      "text/plain": [
       "Predicting: |          | 0/? [00:00<?, ?it/s]"
      ]
     },
     "metadata": {},
     "output_type": "display_data"
    },
    {
     "data": {
      "application/vnd.jupyter.widget-view+json": {
       "model_id": "18fed4490fda4ac4b991f4c3c7c42b24",
       "version_major": 2,
       "version_minor": 0
      },
      "text/plain": [
       "Predicting: |          | 0/? [00:00<?, ?it/s]"
      ]
     },
     "metadata": {},
     "output_type": "display_data"
    },
    {
     "data": {
      "application/vnd.jupyter.widget-view+json": {
       "model_id": "9b07c26f8b6743ed8b02b2119c1a8a7a",
       "version_major": 2,
       "version_minor": 0
      },
      "text/plain": [
       "Predicting: |          | 0/? [00:00<?, ?it/s]"
      ]
     },
     "metadata": {},
     "output_type": "display_data"
    },
    {
     "data": {
      "application/vnd.jupyter.widget-view+json": {
       "model_id": "43dada0237fb4bb2bf0edf552567d221",
       "version_major": 2,
       "version_minor": 0
      },
      "text/plain": [
       "Predicting: |          | 0/? [00:00<?, ?it/s]"
      ]
     },
     "metadata": {},
     "output_type": "display_data"
    },
    {
     "data": {
      "application/vnd.jupyter.widget-view+json": {
       "model_id": "8bbd8d3f86e94c6ab61cdec028a40c9c",
       "version_major": 2,
       "version_minor": 0
      },
      "text/plain": [
       "Predicting: |          | 0/? [00:00<?, ?it/s]"
      ]
     },
     "metadata": {},
     "output_type": "display_data"
    },
    {
     "data": {
      "application/vnd.jupyter.widget-view+json": {
       "model_id": "e5ff15b9a84c4c22952bf6b15a090fd0",
       "version_major": 2,
       "version_minor": 0
      },
      "text/plain": [
       "Predicting: |          | 0/? [00:00<?, ?it/s]"
      ]
     },
     "metadata": {},
     "output_type": "display_data"
    },
    {
     "data": {
      "application/vnd.jupyter.widget-view+json": {
       "model_id": "cadc15aa07ef4512b9b6f96b8e92fa0e",
       "version_major": 2,
       "version_minor": 0
      },
      "text/plain": [
       "Predicting: |          | 0/? [00:00<?, ?it/s]"
      ]
     },
     "metadata": {},
     "output_type": "display_data"
    },
    {
     "data": {
      "application/vnd.jupyter.widget-view+json": {
       "model_id": "439afc655d9a4b73a0fe5b11f28035d4",
       "version_major": 2,
       "version_minor": 0
      },
      "text/plain": [
       "Predicting: |          | 0/? [00:00<?, ?it/s]"
      ]
     },
     "metadata": {},
     "output_type": "display_data"
    },
    {
     "data": {
      "application/vnd.jupyter.widget-view+json": {
       "model_id": "8edf46203ab54901b2ec4616a704a704",
       "version_major": 2,
       "version_minor": 0
      },
      "text/plain": [
       "Predicting: |          | 0/? [00:00<?, ?it/s]"
      ]
     },
     "metadata": {},
     "output_type": "display_data"
    },
    {
     "data": {
      "application/vnd.jupyter.widget-view+json": {
       "model_id": "3d7afcff90db488b9a32b4d02c34ced3",
       "version_major": 2,
       "version_minor": 0
      },
      "text/plain": [
       "Predicting: |          | 0/? [00:00<?, ?it/s]"
      ]
     },
     "metadata": {},
     "output_type": "display_data"
    },
    {
     "data": {
      "application/vnd.jupyter.widget-view+json": {
       "model_id": "5e129114759041b9865c2ea621bea992",
       "version_major": 2,
       "version_minor": 0
      },
      "text/plain": [
       "Predicting: |          | 0/? [00:00<?, ?it/s]"
      ]
     },
     "metadata": {},
     "output_type": "display_data"
    },
    {
     "data": {
      "application/vnd.jupyter.widget-view+json": {
       "model_id": "2914f7371aa84c4385d1f510c254fbf1",
       "version_major": 2,
       "version_minor": 0
      },
      "text/plain": [
       "Predicting: |          | 0/? [00:00<?, ?it/s]"
      ]
     },
     "metadata": {},
     "output_type": "display_data"
    },
    {
     "data": {
      "application/vnd.jupyter.widget-view+json": {
       "model_id": "fb55c51c5d204990a10db279b9ff29c4",
       "version_major": 2,
       "version_minor": 0
      },
      "text/plain": [
       "Predicting: |          | 0/? [00:00<?, ?it/s]"
      ]
     },
     "metadata": {},
     "output_type": "display_data"
    },
    {
     "data": {
      "application/vnd.jupyter.widget-view+json": {
       "model_id": "6579971624834cb09c80a754001a2637",
       "version_major": 2,
       "version_minor": 0
      },
      "text/plain": [
       "Predicting: |          | 0/? [00:00<?, ?it/s]"
      ]
     },
     "metadata": {},
     "output_type": "display_data"
    },
    {
     "data": {
      "application/vnd.jupyter.widget-view+json": {
       "model_id": "720eadf4a4c7431b81ad585ad7475fb5",
       "version_major": 2,
       "version_minor": 0
      },
      "text/plain": [
       "Predicting: |          | 0/? [00:00<?, ?it/s]"
      ]
     },
     "metadata": {},
     "output_type": "display_data"
    },
    {
     "data": {
      "application/vnd.jupyter.widget-view+json": {
       "model_id": "d055ce58c69843ccb4886fa8568d61a1",
       "version_major": 2,
       "version_minor": 0
      },
      "text/plain": [
       "Predicting: |          | 0/? [00:00<?, ?it/s]"
      ]
     },
     "metadata": {},
     "output_type": "display_data"
    },
    {
     "data": {
      "application/vnd.jupyter.widget-view+json": {
       "model_id": "cf5dedb0b9a44284abcb44bb6f3e1e6a",
       "version_major": 2,
       "version_minor": 0
      },
      "text/plain": [
       "Predicting: |          | 0/? [00:00<?, ?it/s]"
      ]
     },
     "metadata": {},
     "output_type": "display_data"
    },
    {
     "data": {
      "application/vnd.jupyter.widget-view+json": {
       "model_id": "52001595d66b4a2faf12cf8a4e5a412a",
       "version_major": 2,
       "version_minor": 0
      },
      "text/plain": [
       "Predicting: |          | 0/? [00:00<?, ?it/s]"
      ]
     },
     "metadata": {},
     "output_type": "display_data"
    },
    {
     "data": {
      "application/vnd.jupyter.widget-view+json": {
       "model_id": "50f859850d6a42fdbc4502724167e004",
       "version_major": 2,
       "version_minor": 0
      },
      "text/plain": [
       "Predicting: |          | 0/? [00:00<?, ?it/s]"
      ]
     },
     "metadata": {},
     "output_type": "display_data"
    },
    {
     "data": {
      "application/vnd.jupyter.widget-view+json": {
       "model_id": "461e637ada6940379b61314687e71c5e",
       "version_major": 2,
       "version_minor": 0
      },
      "text/plain": [
       "Predicting: |          | 0/? [00:00<?, ?it/s]"
      ]
     },
     "metadata": {},
     "output_type": "display_data"
    },
    {
     "data": {
      "application/vnd.jupyter.widget-view+json": {
       "model_id": "08d31105d6934f46b96f80e90b349963",
       "version_major": 2,
       "version_minor": 0
      },
      "text/plain": [
       "Predicting: |          | 0/? [00:00<?, ?it/s]"
      ]
     },
     "metadata": {},
     "output_type": "display_data"
    },
    {
     "data": {
      "application/vnd.jupyter.widget-view+json": {
       "model_id": "d124c8a2ad404f50a3be379719715c23",
       "version_major": 2,
       "version_minor": 0
      },
      "text/plain": [
       "Predicting: |          | 0/? [00:00<?, ?it/s]"
      ]
     },
     "metadata": {},
     "output_type": "display_data"
    },
    {
     "data": {
      "application/vnd.jupyter.widget-view+json": {
       "model_id": "3fa1ef87dfde4c4ebd3a076518cd7f11",
       "version_major": 2,
       "version_minor": 0
      },
      "text/plain": [
       "Predicting: |          | 0/? [00:00<?, ?it/s]"
      ]
     },
     "metadata": {},
     "output_type": "display_data"
    },
    {
     "data": {
      "application/vnd.jupyter.widget-view+json": {
       "model_id": "a6e9deaf4e794c6eb77866515fa62e96",
       "version_major": 2,
       "version_minor": 0
      },
      "text/plain": [
       "Predicting: |          | 0/? [00:00<?, ?it/s]"
      ]
     },
     "metadata": {},
     "output_type": "display_data"
    },
    {
     "data": {
      "application/vnd.jupyter.widget-view+json": {
       "model_id": "714ef34d17cc4bab8e400ce7f8bfbded",
       "version_major": 2,
       "version_minor": 0
      },
      "text/plain": [
       "Predicting: |          | 0/? [00:00<?, ?it/s]"
      ]
     },
     "metadata": {},
     "output_type": "display_data"
    },
    {
     "data": {
      "application/vnd.jupyter.widget-view+json": {
       "model_id": "19f20e54f2b8485f910be6ff28ad7b6c",
       "version_major": 2,
       "version_minor": 0
      },
      "text/plain": [
       "Predicting: |          | 0/? [00:00<?, ?it/s]"
      ]
     },
     "metadata": {},
     "output_type": "display_data"
    },
    {
     "data": {
      "application/vnd.jupyter.widget-view+json": {
       "model_id": "f0878a11e3fa4550bd30aa12368e9b74",
       "version_major": 2,
       "version_minor": 0
      },
      "text/plain": [
       "Predicting: |          | 0/? [00:00<?, ?it/s]"
      ]
     },
     "metadata": {},
     "output_type": "display_data"
    },
    {
     "data": {
      "application/vnd.jupyter.widget-view+json": {
       "model_id": "e55c7116ff76428b91af9ab88b5bd6bf",
       "version_major": 2,
       "version_minor": 0
      },
      "text/plain": [
       "Predicting: |          | 0/? [00:00<?, ?it/s]"
      ]
     },
     "metadata": {},
     "output_type": "display_data"
    },
    {
     "data": {
      "application/vnd.jupyter.widget-view+json": {
       "model_id": "61258c64da3a46c49a4b273cb3cc4a25",
       "version_major": 2,
       "version_minor": 0
      },
      "text/plain": [
       "Predicting: |          | 0/? [00:00<?, ?it/s]"
      ]
     },
     "metadata": {},
     "output_type": "display_data"
    },
    {
     "data": {
      "application/vnd.jupyter.widget-view+json": {
       "model_id": "526651cffd1c41e49f48081a09083000",
       "version_major": 2,
       "version_minor": 0
      },
      "text/plain": [
       "Predicting: |          | 0/? [00:00<?, ?it/s]"
      ]
     },
     "metadata": {},
     "output_type": "display_data"
    },
    {
     "data": {
      "application/vnd.jupyter.widget-view+json": {
       "model_id": "8a59b6e80b1d45c5bc6a88477c57e30e",
       "version_major": 2,
       "version_minor": 0
      },
      "text/plain": [
       "Predicting: |          | 0/? [00:00<?, ?it/s]"
      ]
     },
     "metadata": {},
     "output_type": "display_data"
    },
    {
     "data": {
      "application/vnd.jupyter.widget-view+json": {
       "model_id": "1d0da2a9c0fb4e8d95ee6e56e3d4f9f2",
       "version_major": 2,
       "version_minor": 0
      },
      "text/plain": [
       "Predicting: |          | 0/? [00:00<?, ?it/s]"
      ]
     },
     "metadata": {},
     "output_type": "display_data"
    },
    {
     "data": {
      "application/vnd.jupyter.widget-view+json": {
       "model_id": "17d358eb5374467aaa5feab7b938eb3b",
       "version_major": 2,
       "version_minor": 0
      },
      "text/plain": [
       "Predicting: |          | 0/? [00:00<?, ?it/s]"
      ]
     },
     "metadata": {},
     "output_type": "display_data"
    },
    {
     "data": {
      "application/vnd.jupyter.widget-view+json": {
       "model_id": "62c225bd43bd45308d6950ec32ca6996",
       "version_major": 2,
       "version_minor": 0
      },
      "text/plain": [
       "Predicting: |          | 0/? [00:00<?, ?it/s]"
      ]
     },
     "metadata": {},
     "output_type": "display_data"
    },
    {
     "data": {
      "application/vnd.jupyter.widget-view+json": {
       "model_id": "119bdf0e22d8449d919a07c08e5ad939",
       "version_major": 2,
       "version_minor": 0
      },
      "text/plain": [
       "Predicting: |          | 0/? [00:00<?, ?it/s]"
      ]
     },
     "metadata": {},
     "output_type": "display_data"
    },
    {
     "data": {
      "application/vnd.jupyter.widget-view+json": {
       "model_id": "836b83c6471c432abd8e317c0e818483",
       "version_major": 2,
       "version_minor": 0
      },
      "text/plain": [
       "Predicting: |          | 0/? [00:00<?, ?it/s]"
      ]
     },
     "metadata": {},
     "output_type": "display_data"
    },
    {
     "name": "stdout",
     "output_type": "stream",
     "text": [
      "\n",
      "Saving final results...\n"
     ]
    }
   ],
   "source": [
    "lstm_predictions, lstm_metrics = train_and_evaluate_model(\n",
    "    lstm_config, train_series_list, train_covariates_list,\n",
    "    test_series_list, test_covariates_list, household_ids,\n",
    "    target_scaler, output_predictions_lstm, output_metrics_lstm\n",
    ")"
   ]
  },
  {
   "cell_type": "code",
   "execution_count": 21,
   "metadata": {
    "execution": {
     "iopub.execute_input": "2025-09-07T15:57:12.082666Z",
     "iopub.status.busy": "2025-09-07T15:57:12.082406Z",
     "iopub.status.idle": "2025-09-07T16:26:06.326623Z",
     "shell.execute_reply": "2025-09-07T16:26:06.325912Z",
     "shell.execute_reply.started": "2025-09-07T15:57:12.082648Z"
    },
    "trusted": true
   },
   "outputs": [
    {
     "name": "stdout",
     "output_type": "stream",
     "text": [
      "Training TSMixer model...\n"
     ]
    },
    {
     "data": {
      "application/vnd.jupyter.widget-view+json": {
       "model_id": "56796116bda540c884db17bea1b601b4",
       "version_major": 2,
       "version_minor": 0
      },
      "text/plain": [
       "Training: |          | 0/? [00:00<?, ?it/s]"
      ]
     },
     "metadata": {},
     "output_type": "display_data"
    },
    {
     "data": {
      "application/vnd.jupyter.widget-view+json": {
       "model_id": "ed2a4f25f5ad45ce863aaa3c0f4524ea",
       "version_major": 2,
       "version_minor": 0
      },
      "text/plain": [
       "Predicting: |          | 0/? [00:00<?, ?it/s]"
      ]
     },
     "metadata": {},
     "output_type": "display_data"
    },
    {
     "data": {
      "application/vnd.jupyter.widget-view+json": {
       "model_id": "a9f41827f95d420bb447e0b77d1a390e",
       "version_major": 2,
       "version_minor": 0
      },
      "text/plain": [
       "Predicting: |          | 0/? [00:00<?, ?it/s]"
      ]
     },
     "metadata": {},
     "output_type": "display_data"
    },
    {
     "data": {
      "application/vnd.jupyter.widget-view+json": {
       "model_id": "c1a4fcd6655a43018d6382d923226180",
       "version_major": 2,
       "version_minor": 0
      },
      "text/plain": [
       "Predicting: |          | 0/? [00:00<?, ?it/s]"
      ]
     },
     "metadata": {},
     "output_type": "display_data"
    },
    {
     "data": {
      "application/vnd.jupyter.widget-view+json": {
       "model_id": "84095836dd1344f4a00783f41091d438",
       "version_major": 2,
       "version_minor": 0
      },
      "text/plain": [
       "Predicting: |          | 0/? [00:00<?, ?it/s]"
      ]
     },
     "metadata": {},
     "output_type": "display_data"
    },
    {
     "data": {
      "application/vnd.jupyter.widget-view+json": {
       "model_id": "3de0eacb9eee41b2a9a54a4e9a96cd92",
       "version_major": 2,
       "version_minor": 0
      },
      "text/plain": [
       "Predicting: |          | 0/? [00:00<?, ?it/s]"
      ]
     },
     "metadata": {},
     "output_type": "display_data"
    },
    {
     "data": {
      "application/vnd.jupyter.widget-view+json": {
       "model_id": "b2f6441e69fc4acca21b24d0fa84e1b4",
       "version_major": 2,
       "version_minor": 0
      },
      "text/plain": [
       "Predicting: |          | 0/? [00:00<?, ?it/s]"
      ]
     },
     "metadata": {},
     "output_type": "display_data"
    },
    {
     "data": {
      "application/vnd.jupyter.widget-view+json": {
       "model_id": "574a8896cd5e4e7f98db0f7308357189",
       "version_major": 2,
       "version_minor": 0
      },
      "text/plain": [
       "Predicting: |          | 0/? [00:00<?, ?it/s]"
      ]
     },
     "metadata": {},
     "output_type": "display_data"
    },
    {
     "data": {
      "application/vnd.jupyter.widget-view+json": {
       "model_id": "13c4ef036736440494b6b163f143bf89",
       "version_major": 2,
       "version_minor": 0
      },
      "text/plain": [
       "Predicting: |          | 0/? [00:00<?, ?it/s]"
      ]
     },
     "metadata": {},
     "output_type": "display_data"
    },
    {
     "data": {
      "application/vnd.jupyter.widget-view+json": {
       "model_id": "96b10da3b12940509de3d7ec559e6a18",
       "version_major": 2,
       "version_minor": 0
      },
      "text/plain": [
       "Predicting: |          | 0/? [00:00<?, ?it/s]"
      ]
     },
     "metadata": {},
     "output_type": "display_data"
    },
    {
     "data": {
      "application/vnd.jupyter.widget-view+json": {
       "model_id": "5455cf75e51041cfb534e78b30b40a21",
       "version_major": 2,
       "version_minor": 0
      },
      "text/plain": [
       "Predicting: |          | 0/? [00:00<?, ?it/s]"
      ]
     },
     "metadata": {},
     "output_type": "display_data"
    },
    {
     "data": {
      "application/vnd.jupyter.widget-view+json": {
       "model_id": "1df30451f8d845308ed258ce9e0999e4",
       "version_major": 2,
       "version_minor": 0
      },
      "text/plain": [
       "Predicting: |          | 0/? [00:00<?, ?it/s]"
      ]
     },
     "metadata": {},
     "output_type": "display_data"
    },
    {
     "data": {
      "application/vnd.jupyter.widget-view+json": {
       "model_id": "ae998192a1ef4436b7f2a81a4fb9f611",
       "version_major": 2,
       "version_minor": 0
      },
      "text/plain": [
       "Predicting: |          | 0/? [00:00<?, ?it/s]"
      ]
     },
     "metadata": {},
     "output_type": "display_data"
    },
    {
     "data": {
      "application/vnd.jupyter.widget-view+json": {
       "model_id": "282130f9dd0748f8a9e77bccaed924ac",
       "version_major": 2,
       "version_minor": 0
      },
      "text/plain": [
       "Predicting: |          | 0/? [00:00<?, ?it/s]"
      ]
     },
     "metadata": {},
     "output_type": "display_data"
    },
    {
     "data": {
      "application/vnd.jupyter.widget-view+json": {
       "model_id": "f4b9644a0a204285bba27a488d245768",
       "version_major": 2,
       "version_minor": 0
      },
      "text/plain": [
       "Predicting: |          | 0/? [00:00<?, ?it/s]"
      ]
     },
     "metadata": {},
     "output_type": "display_data"
    },
    {
     "data": {
      "application/vnd.jupyter.widget-view+json": {
       "model_id": "c0e6cf7d0dfe4957a021be9a42d4cd24",
       "version_major": 2,
       "version_minor": 0
      },
      "text/plain": [
       "Predicting: |          | 0/? [00:00<?, ?it/s]"
      ]
     },
     "metadata": {},
     "output_type": "display_data"
    },
    {
     "data": {
      "application/vnd.jupyter.widget-view+json": {
       "model_id": "db1a19cac43e4e278daff1c20e2c89fc",
       "version_major": 2,
       "version_minor": 0
      },
      "text/plain": [
       "Predicting: |          | 0/? [00:00<?, ?it/s]"
      ]
     },
     "metadata": {},
     "output_type": "display_data"
    },
    {
     "data": {
      "application/vnd.jupyter.widget-view+json": {
       "model_id": "774a750f1b1a447583be8e0c74552d66",
       "version_major": 2,
       "version_minor": 0
      },
      "text/plain": [
       "Predicting: |          | 0/? [00:00<?, ?it/s]"
      ]
     },
     "metadata": {},
     "output_type": "display_data"
    },
    {
     "data": {
      "application/vnd.jupyter.widget-view+json": {
       "model_id": "623d73d12eb2453f8c87a065ae9f6f10",
       "version_major": 2,
       "version_minor": 0
      },
      "text/plain": [
       "Predicting: |          | 0/? [00:00<?, ?it/s]"
      ]
     },
     "metadata": {},
     "output_type": "display_data"
    },
    {
     "data": {
      "application/vnd.jupyter.widget-view+json": {
       "model_id": "b167bcbce935410aa668fb960f470759",
       "version_major": 2,
       "version_minor": 0
      },
      "text/plain": [
       "Predicting: |          | 0/? [00:00<?, ?it/s]"
      ]
     },
     "metadata": {},
     "output_type": "display_data"
    },
    {
     "data": {
      "application/vnd.jupyter.widget-view+json": {
       "model_id": "6de378f64254463187618fb3a5f9ee96",
       "version_major": 2,
       "version_minor": 0
      },
      "text/plain": [
       "Predicting: |          | 0/? [00:00<?, ?it/s]"
      ]
     },
     "metadata": {},
     "output_type": "display_data"
    },
    {
     "data": {
      "application/vnd.jupyter.widget-view+json": {
       "model_id": "622ae24fd66d48d5b5bda15ec73e9df0",
       "version_major": 2,
       "version_minor": 0
      },
      "text/plain": [
       "Predicting: |          | 0/? [00:00<?, ?it/s]"
      ]
     },
     "metadata": {},
     "output_type": "display_data"
    },
    {
     "data": {
      "application/vnd.jupyter.widget-view+json": {
       "model_id": "cebb8e948b9f43038aafcc985708200d",
       "version_major": 2,
       "version_minor": 0
      },
      "text/plain": [
       "Predicting: |          | 0/? [00:00<?, ?it/s]"
      ]
     },
     "metadata": {},
     "output_type": "display_data"
    },
    {
     "data": {
      "application/vnd.jupyter.widget-view+json": {
       "model_id": "5bf9021c2be24ddfb623188f2969c982",
       "version_major": 2,
       "version_minor": 0
      },
      "text/plain": [
       "Predicting: |          | 0/? [00:00<?, ?it/s]"
      ]
     },
     "metadata": {},
     "output_type": "display_data"
    },
    {
     "data": {
      "application/vnd.jupyter.widget-view+json": {
       "model_id": "d5fd3002b6224deaae20e1de103f620e",
       "version_major": 2,
       "version_minor": 0
      },
      "text/plain": [
       "Predicting: |          | 0/? [00:00<?, ?it/s]"
      ]
     },
     "metadata": {},
     "output_type": "display_data"
    },
    {
     "data": {
      "application/vnd.jupyter.widget-view+json": {
       "model_id": "d4261c9e275e4aa8a101f27453342978",
       "version_major": 2,
       "version_minor": 0
      },
      "text/plain": [
       "Predicting: |          | 0/? [00:00<?, ?it/s]"
      ]
     },
     "metadata": {},
     "output_type": "display_data"
    },
    {
     "data": {
      "application/vnd.jupyter.widget-view+json": {
       "model_id": "86e1b62b695a4cf89943d9bea879a98c",
       "version_major": 2,
       "version_minor": 0
      },
      "text/plain": [
       "Predicting: |          | 0/? [00:00<?, ?it/s]"
      ]
     },
     "metadata": {},
     "output_type": "display_data"
    },
    {
     "data": {
      "application/vnd.jupyter.widget-view+json": {
       "model_id": "47ec795b7e1c48239290da61f2cf97dd",
       "version_major": 2,
       "version_minor": 0
      },
      "text/plain": [
       "Predicting: |          | 0/? [00:00<?, ?it/s]"
      ]
     },
     "metadata": {},
     "output_type": "display_data"
    },
    {
     "data": {
      "application/vnd.jupyter.widget-view+json": {
       "model_id": "a0496070aa284c5d98f2e01aa6889858",
       "version_major": 2,
       "version_minor": 0
      },
      "text/plain": [
       "Predicting: |          | 0/? [00:00<?, ?it/s]"
      ]
     },
     "metadata": {},
     "output_type": "display_data"
    },
    {
     "data": {
      "application/vnd.jupyter.widget-view+json": {
       "model_id": "89e7413af75746b6aafa45bf9c0affc3",
       "version_major": 2,
       "version_minor": 0
      },
      "text/plain": [
       "Predicting: |          | 0/? [00:00<?, ?it/s]"
      ]
     },
     "metadata": {},
     "output_type": "display_data"
    },
    {
     "data": {
      "application/vnd.jupyter.widget-view+json": {
       "model_id": "d2c5d5052b1047a38a7b1a3759e3d548",
       "version_major": 2,
       "version_minor": 0
      },
      "text/plain": [
       "Predicting: |          | 0/? [00:00<?, ?it/s]"
      ]
     },
     "metadata": {},
     "output_type": "display_data"
    },
    {
     "data": {
      "application/vnd.jupyter.widget-view+json": {
       "model_id": "c37a34c1ada146d78e15e2e0abf9d1d2",
       "version_major": 2,
       "version_minor": 0
      },
      "text/plain": [
       "Predicting: |          | 0/? [00:00<?, ?it/s]"
      ]
     },
     "metadata": {},
     "output_type": "display_data"
    },
    {
     "data": {
      "application/vnd.jupyter.widget-view+json": {
       "model_id": "668072ddcb3845a99842c2c46d33b9e2",
       "version_major": 2,
       "version_minor": 0
      },
      "text/plain": [
       "Predicting: |          | 0/? [00:00<?, ?it/s]"
      ]
     },
     "metadata": {},
     "output_type": "display_data"
    },
    {
     "data": {
      "application/vnd.jupyter.widget-view+json": {
       "model_id": "2b8193bf0e7e4f34a1df35591b9238cb",
       "version_major": 2,
       "version_minor": 0
      },
      "text/plain": [
       "Predicting: |          | 0/? [00:00<?, ?it/s]"
      ]
     },
     "metadata": {},
     "output_type": "display_data"
    },
    {
     "data": {
      "application/vnd.jupyter.widget-view+json": {
       "model_id": "7ca6469decee45ad966db84a59facdd6",
       "version_major": 2,
       "version_minor": 0
      },
      "text/plain": [
       "Predicting: |          | 0/? [00:00<?, ?it/s]"
      ]
     },
     "metadata": {},
     "output_type": "display_data"
    },
    {
     "data": {
      "application/vnd.jupyter.widget-view+json": {
       "model_id": "79cb3bf051874d0688ee076f6d1472a0",
       "version_major": 2,
       "version_minor": 0
      },
      "text/plain": [
       "Predicting: |          | 0/? [00:00<?, ?it/s]"
      ]
     },
     "metadata": {},
     "output_type": "display_data"
    },
    {
     "data": {
      "application/vnd.jupyter.widget-view+json": {
       "model_id": "6056d4cec6784eeb8d568d4e64be3cef",
       "version_major": 2,
       "version_minor": 0
      },
      "text/plain": [
       "Predicting: |          | 0/? [00:00<?, ?it/s]"
      ]
     },
     "metadata": {},
     "output_type": "display_data"
    },
    {
     "data": {
      "application/vnd.jupyter.widget-view+json": {
       "model_id": "f7a552095509490b976c60c1daf94ee2",
       "version_major": 2,
       "version_minor": 0
      },
      "text/plain": [
       "Predicting: |          | 0/? [00:00<?, ?it/s]"
      ]
     },
     "metadata": {},
     "output_type": "display_data"
    },
    {
     "data": {
      "application/vnd.jupyter.widget-view+json": {
       "model_id": "354832638912493896e18d5ba0fee577",
       "version_major": 2,
       "version_minor": 0
      },
      "text/plain": [
       "Predicting: |          | 0/? [00:00<?, ?it/s]"
      ]
     },
     "metadata": {},
     "output_type": "display_data"
    },
    {
     "data": {
      "application/vnd.jupyter.widget-view+json": {
       "model_id": "c5003e5a30ad4d0581761d0dbfbbc386",
       "version_major": 2,
       "version_minor": 0
      },
      "text/plain": [
       "Predicting: |          | 0/? [00:00<?, ?it/s]"
      ]
     },
     "metadata": {},
     "output_type": "display_data"
    },
    {
     "data": {
      "application/vnd.jupyter.widget-view+json": {
       "model_id": "5c55b16e36ae473dbe7d192af18a1388",
       "version_major": 2,
       "version_minor": 0
      },
      "text/plain": [
       "Predicting: |          | 0/? [00:00<?, ?it/s]"
      ]
     },
     "metadata": {},
     "output_type": "display_data"
    },
    {
     "data": {
      "application/vnd.jupyter.widget-view+json": {
       "model_id": "3f975057a436465198f3d0fb3f7b4034",
       "version_major": 2,
       "version_minor": 0
      },
      "text/plain": [
       "Predicting: |          | 0/? [00:00<?, ?it/s]"
      ]
     },
     "metadata": {},
     "output_type": "display_data"
    },
    {
     "data": {
      "application/vnd.jupyter.widget-view+json": {
       "model_id": "2e594c21992346eaacd1c22e58fb69d0",
       "version_major": 2,
       "version_minor": 0
      },
      "text/plain": [
       "Predicting: |          | 0/? [00:00<?, ?it/s]"
      ]
     },
     "metadata": {},
     "output_type": "display_data"
    },
    {
     "data": {
      "application/vnd.jupyter.widget-view+json": {
       "model_id": "9d20f98a4431419d8588d6f9676a971f",
       "version_major": 2,
       "version_minor": 0
      },
      "text/plain": [
       "Predicting: |          | 0/? [00:00<?, ?it/s]"
      ]
     },
     "metadata": {},
     "output_type": "display_data"
    },
    {
     "data": {
      "application/vnd.jupyter.widget-view+json": {
       "model_id": "6bd2265c6bb7498aa53d8cfda82ff6b3",
       "version_major": 2,
       "version_minor": 0
      },
      "text/plain": [
       "Predicting: |          | 0/? [00:00<?, ?it/s]"
      ]
     },
     "metadata": {},
     "output_type": "display_data"
    },
    {
     "data": {
      "application/vnd.jupyter.widget-view+json": {
       "model_id": "e062559272d34d02808c31da8bf32a11",
       "version_major": 2,
       "version_minor": 0
      },
      "text/plain": [
       "Predicting: |          | 0/? [00:00<?, ?it/s]"
      ]
     },
     "metadata": {},
     "output_type": "display_data"
    },
    {
     "data": {
      "application/vnd.jupyter.widget-view+json": {
       "model_id": "427a0f2b11ee458081936cc3dad9e5ea",
       "version_major": 2,
       "version_minor": 0
      },
      "text/plain": [
       "Predicting: |          | 0/? [00:00<?, ?it/s]"
      ]
     },
     "metadata": {},
     "output_type": "display_data"
    },
    {
     "data": {
      "application/vnd.jupyter.widget-view+json": {
       "model_id": "51bfcb63c6784b39a1771bf41f3d5715",
       "version_major": 2,
       "version_minor": 0
      },
      "text/plain": [
       "Predicting: |          | 0/? [00:00<?, ?it/s]"
      ]
     },
     "metadata": {},
     "output_type": "display_data"
    },
    {
     "data": {
      "application/vnd.jupyter.widget-view+json": {
       "model_id": "f143f15e0cd34bd99ebb8cab36a65c45",
       "version_major": 2,
       "version_minor": 0
      },
      "text/plain": [
       "Predicting: |          | 0/? [00:00<?, ?it/s]"
      ]
     },
     "metadata": {},
     "output_type": "display_data"
    },
    {
     "data": {
      "application/vnd.jupyter.widget-view+json": {
       "model_id": "e9177baa5e5a47cb82743daeb767ae3d",
       "version_major": 2,
       "version_minor": 0
      },
      "text/plain": [
       "Predicting: |          | 0/? [00:00<?, ?it/s]"
      ]
     },
     "metadata": {},
     "output_type": "display_data"
    },
    {
     "data": {
      "application/vnd.jupyter.widget-view+json": {
       "model_id": "0927cbd9586c4192b7eba67161cfa66c",
       "version_major": 2,
       "version_minor": 0
      },
      "text/plain": [
       "Predicting: |          | 0/? [00:00<?, ?it/s]"
      ]
     },
     "metadata": {},
     "output_type": "display_data"
    },
    {
     "name": "stdout",
     "output_type": "stream",
     "text": [
      "\n",
      "Saving final results...\n"
     ]
    }
   ],
   "source": [
    "tsmixer_predictions, tsmixer_metrics = train_and_evaluate_model(\n",
    "    tsmixer_config, train_series_list, train_covariates_list,\n",
    "    test_series_list, test_covariates_list, household_ids,\n",
    "    target_scaler, output_predictions_tsmixer, output_metrics_tsmixer\n",
    ")"
   ]
  },
  {
   "cell_type": "code",
   "execution_count": 33,
   "metadata": {
    "execution": {
     "iopub.execute_input": "2025-09-08T07:14:16.909751Z",
     "iopub.status.busy": "2025-09-08T07:14:16.909433Z",
     "iopub.status.idle": "2025-09-08T07:14:16.983112Z",
     "shell.execute_reply": "2025-09-08T07:14:16.982537Z",
     "shell.execute_reply.started": "2025-09-08T07:14:16.909730Z"
    },
    "trusted": true
   },
   "outputs": [],
   "source": [
    "WORKING_DIR = Path(\"/kaggle/input/data-power\")\n",
    "for model_name in ['tsmixer','lstm']:\n",
    "    preds = pd.read_pickle(WORKING_DIR/f'{model_name}_test_predictions.parquet')\n",
    "    metrics = pd.read_pickle(WORKING_DIR/f'{model_name}_test_metrics.parquet')\n",
    "    all_predictions.append(preds)\n",
    "    all_metrics.append(metrics)\n",
    "\n",
    "combined_predictions = pd.concat(all_predictions)\n",
    "combined_metrics = pd.concat(all_metrics)"
   ]
  },
  {
   "cell_type": "code",
   "execution_count": 34,
   "metadata": {
    "execution": {
     "iopub.execute_input": "2025-09-08T07:14:20.506416Z",
     "iopub.status.busy": "2025-09-08T07:14:20.506132Z",
     "iopub.status.idle": "2025-09-08T07:14:20.518301Z",
     "shell.execute_reply": "2025-09-08T07:14:20.517578Z",
     "shell.execute_reply.started": "2025-09-08T07:14:20.506397Z"
    },
    "trusted": true
   },
   "outputs": [
    {
     "data": {
      "text/html": [
       "<div>\n",
       "<style scoped>\n",
       "    .dataframe tbody tr th:only-of-type {\n",
       "        vertical-align: middle;\n",
       "    }\n",
       "\n",
       "    .dataframe tbody tr th {\n",
       "        vertical-align: top;\n",
       "    }\n",
       "\n",
       "    .dataframe thead th {\n",
       "        text-align: right;\n",
       "    }\n",
       "</style>\n",
       "<table border=\"1\" class=\"dataframe\">\n",
       "  <thead>\n",
       "    <tr style=\"text-align: right;\">\n",
       "      <th></th>\n",
       "      <th>timestamp</th>\n",
       "      <th>actual</th>\n",
       "      <th>predicted</th>\n",
       "      <th>household_id</th>\n",
       "      <th>model</th>\n",
       "    </tr>\n",
       "  </thead>\n",
       "  <tbody>\n",
       "    <tr>\n",
       "      <th>0</th>\n",
       "      <td>2014-02-01 00:00:00</td>\n",
       "      <td>0.083302</td>\n",
       "      <td>0.072142</td>\n",
       "      <td>MAC000061</td>\n",
       "      <td>TSMixer</td>\n",
       "    </tr>\n",
       "    <tr>\n",
       "      <th>1</th>\n",
       "      <td>2014-02-01 00:30:00</td>\n",
       "      <td>0.079516</td>\n",
       "      <td>0.067109</td>\n",
       "      <td>MAC000061</td>\n",
       "      <td>TSMixer</td>\n",
       "    </tr>\n",
       "    <tr>\n",
       "      <th>2</th>\n",
       "      <td>2014-02-01 01:00:00</td>\n",
       "      <td>0.050486</td>\n",
       "      <td>0.042362</td>\n",
       "      <td>MAC000061</td>\n",
       "      <td>TSMixer</td>\n",
       "    </tr>\n",
       "    <tr>\n",
       "      <th>3</th>\n",
       "      <td>2014-02-01 01:30:00</td>\n",
       "      <td>0.025243</td>\n",
       "      <td>0.014969</td>\n",
       "      <td>MAC000061</td>\n",
       "      <td>TSMixer</td>\n",
       "    </tr>\n",
       "    <tr>\n",
       "      <th>4</th>\n",
       "      <td>2014-02-01 02:00:00</td>\n",
       "      <td>0.022719</td>\n",
       "      <td>0.009187</td>\n",
       "      <td>MAC000061</td>\n",
       "      <td>TSMixer</td>\n",
       "    </tr>\n",
       "    <tr>\n",
       "      <th>...</th>\n",
       "      <td>...</td>\n",
       "      <td>...</td>\n",
       "      <td>...</td>\n",
       "      <td>...</td>\n",
       "      <td>...</td>\n",
       "    </tr>\n",
       "    <tr>\n",
       "      <th>64795</th>\n",
       "      <td>2014-02-27 21:30:00</td>\n",
       "      <td>0.127000</td>\n",
       "      <td>0.105757</td>\n",
       "      <td>MAC001600</td>\n",
       "      <td>LSTM</td>\n",
       "    </tr>\n",
       "    <tr>\n",
       "      <th>64796</th>\n",
       "      <td>2014-02-27 22:00:00</td>\n",
       "      <td>0.113000</td>\n",
       "      <td>0.094581</td>\n",
       "      <td>MAC001600</td>\n",
       "      <td>LSTM</td>\n",
       "    </tr>\n",
       "    <tr>\n",
       "      <th>64797</th>\n",
       "      <td>2014-02-27 22:30:00</td>\n",
       "      <td>0.129000</td>\n",
       "      <td>0.079601</td>\n",
       "      <td>MAC001600</td>\n",
       "      <td>LSTM</td>\n",
       "    </tr>\n",
       "    <tr>\n",
       "      <th>64798</th>\n",
       "      <td>2014-02-27 23:00:00</td>\n",
       "      <td>0.085000</td>\n",
       "      <td>0.073945</td>\n",
       "      <td>MAC001600</td>\n",
       "      <td>LSTM</td>\n",
       "    </tr>\n",
       "    <tr>\n",
       "      <th>64799</th>\n",
       "      <td>2014-02-27 23:30:00</td>\n",
       "      <td>0.029000</td>\n",
       "      <td>0.056104</td>\n",
       "      <td>MAC001600</td>\n",
       "      <td>LSTM</td>\n",
       "    </tr>\n",
       "  </tbody>\n",
       "</table>\n",
       "<p>129600 rows × 5 columns</p>\n",
       "</div>"
      ],
      "text/plain": [
       "                timestamp    actual  predicted household_id    model\n",
       "0     2014-02-01 00:00:00  0.083302   0.072142    MAC000061  TSMixer\n",
       "1     2014-02-01 00:30:00  0.079516   0.067109    MAC000061  TSMixer\n",
       "2     2014-02-01 01:00:00  0.050486   0.042362    MAC000061  TSMixer\n",
       "3     2014-02-01 01:30:00  0.025243   0.014969    MAC000061  TSMixer\n",
       "4     2014-02-01 02:00:00  0.022719   0.009187    MAC000061  TSMixer\n",
       "...                   ...       ...        ...          ...      ...\n",
       "64795 2014-02-27 21:30:00  0.127000   0.105757    MAC001600     LSTM\n",
       "64796 2014-02-27 22:00:00  0.113000   0.094581    MAC001600     LSTM\n",
       "64797 2014-02-27 22:30:00  0.129000   0.079601    MAC001600     LSTM\n",
       "64798 2014-02-27 23:00:00  0.085000   0.073945    MAC001600     LSTM\n",
       "64799 2014-02-27 23:30:00  0.029000   0.056104    MAC001600     LSTM\n",
       "\n",
       "[129600 rows x 5 columns]"
      ]
     },
     "execution_count": 34,
     "metadata": {},
     "output_type": "execute_result"
    }
   ],
   "source": [
    "combined_predictions"
   ]
  },
  {
   "cell_type": "code",
   "execution_count": 35,
   "metadata": {
    "execution": {
     "iopub.execute_input": "2025-09-08T07:14:24.706640Z",
     "iopub.status.busy": "2025-09-08T07:14:24.706355Z",
     "iopub.status.idle": "2025-09-08T07:14:24.728625Z",
     "shell.execute_reply": "2025-09-08T07:14:24.727854Z",
     "shell.execute_reply.started": "2025-09-08T07:14:24.706621Z"
    },
    "trusted": true
   },
   "outputs": [
    {
     "data": {
      "text/plain": [
       "{'Algorithm': 'LSTM',\n",
       " 'MSE': 0.010072169003101697,\n",
       " 'RMSE': 0.10036019630860482,\n",
       " 'MAE': 0.05108391567442183,\n",
       " 'Forecast Bias': 9.929866374905044}"
      ]
     },
     "execution_count": 35,
     "metadata": {},
     "output_type": "execute_result"
    }
   ],
   "source": [
    "lstm_test_metric_df = combined_predictions[combined_predictions.model =='LSTM']\n",
    "overall_metrics_test_lstm = {\n",
    "    \"Algorithm\": \"LSTM\",\n",
    "    \"MSE\": mse(lstm_test_metric_df.actual.values, lstm_test_metric_df.predicted.values),\n",
    "    \"RMSE\": rmse(lstm_test_metric_df.actual.values, lstm_test_metric_df.predicted.values),\n",
    "    \"MAE\": mae(lstm_test_metric_df.actual.values, lstm_test_metric_df.predicted.values),\n",
    "    \"Forecast Bias\": forecast_bias(lstm_test_metric_df.actual.values, lstm_test_metric_df.predicted.values)\n",
    "}\n",
    "overall_metrics_test_lstm"
   ]
  },
  {
   "cell_type": "code",
   "execution_count": 36,
   "metadata": {
    "execution": {
     "iopub.execute_input": "2025-09-08T07:14:27.092534Z",
     "iopub.status.busy": "2025-09-08T07:14:27.091810Z",
     "iopub.status.idle": "2025-09-08T07:14:27.113852Z",
     "shell.execute_reply": "2025-09-08T07:14:27.113072Z",
     "shell.execute_reply.started": "2025-09-08T07:14:27.092511Z"
    },
    "trusted": true
   },
   "outputs": [
    {
     "data": {
      "text/plain": [
       "{'Algorithm': 'TSMixer',\n",
       " 'MSE': 0.0007938845993656098,\n",
       " 'RMSE': 0.02817595782516736,\n",
       " 'MAE': 0.018249450308966006,\n",
       " 'Forecast Bias': 13.946778689986678}"
      ]
     },
     "execution_count": 36,
     "metadata": {},
     "output_type": "execute_result"
    }
   ],
   "source": [
    "tsmixer_test_metric_df = combined_predictions[combined_predictions.model =='TSMixer']\n",
    "overall_metrics_test_tsmixer = {\n",
    "    \"Algorithm\": \"TSMixer\",\n",
    "    \"MSE\": mse(tsmixer_test_metric_df.actual.values, tsmixer_test_metric_df.predicted.values),\n",
    "    \"RMSE\": rmse(tsmixer_test_metric_df.actual.values, tsmixer_test_metric_df.predicted.values),\n",
    "    \"MAE\": mae(tsmixer_test_metric_df.actual.values, tsmixer_test_metric_df.predicted.values),\n",
    "    \"Forecast Bias\": forecast_bias(tsmixer_test_metric_df.actual.values, tsmixer_test_metric_df.predicted.values)\n",
    "}\n",
    "overall_metrics_test_tsmixer"
   ]
  },
  {
   "cell_type": "code",
   "execution_count": 50,
   "metadata": {
    "execution": {
     "iopub.execute_input": "2025-09-08T05:25:30.433050Z",
     "iopub.status.busy": "2025-09-08T05:25:30.432740Z",
     "iopub.status.idle": "2025-09-08T05:25:30.443744Z",
     "shell.execute_reply": "2025-09-08T05:25:30.443107Z",
     "shell.execute_reply.started": "2025-09-08T05:25:30.433029Z"
    },
    "trusted": true
   },
   "outputs": [
    {
     "data": {
      "text/html": [
       "<div>\n",
       "<style scoped>\n",
       "    .dataframe tbody tr th:only-of-type {\n",
       "        vertical-align: middle;\n",
       "    }\n",
       "\n",
       "    .dataframe tbody tr th {\n",
       "        vertical-align: top;\n",
       "    }\n",
       "\n",
       "    .dataframe thead th {\n",
       "        text-align: right;\n",
       "    }\n",
       "</style>\n",
       "<table border=\"1\" class=\"dataframe\">\n",
       "  <thead>\n",
       "    <tr style=\"text-align: right;\">\n",
       "      <th></th>\n",
       "      <th>household_id</th>\n",
       "      <th>MSE</th>\n",
       "      <th>RMSE</th>\n",
       "      <th>MAE</th>\n",
       "      <th>Forecast Bias</th>\n",
       "      <th>algorithm</th>\n",
       "    </tr>\n",
       "  </thead>\n",
       "  <tbody>\n",
       "    <tr>\n",
       "      <th>0</th>\n",
       "      <td>MAC000061</td>\n",
       "      <td>0.000791</td>\n",
       "      <td>0.028121</td>\n",
       "      <td>0.020859</td>\n",
       "      <td>12.875486</td>\n",
       "      <td>TSMixer</td>\n",
       "    </tr>\n",
       "    <tr>\n",
       "      <th>1</th>\n",
       "      <td>MAC000062</td>\n",
       "      <td>0.000484</td>\n",
       "      <td>0.022007</td>\n",
       "      <td>0.014824</td>\n",
       "      <td>14.281264</td>\n",
       "      <td>TSMixer</td>\n",
       "    </tr>\n",
       "    <tr>\n",
       "      <th>2</th>\n",
       "      <td>MAC000066</td>\n",
       "      <td>0.000169</td>\n",
       "      <td>0.012995</td>\n",
       "      <td>0.010929</td>\n",
       "      <td>43.869876</td>\n",
       "      <td>TSMixer</td>\n",
       "    </tr>\n",
       "    <tr>\n",
       "      <th>3</th>\n",
       "      <td>MAC000086</td>\n",
       "      <td>0.001021</td>\n",
       "      <td>0.031948</td>\n",
       "      <td>0.019784</td>\n",
       "      <td>12.815567</td>\n",
       "      <td>TSMixer</td>\n",
       "    </tr>\n",
       "    <tr>\n",
       "      <th>4</th>\n",
       "      <td>MAC000099</td>\n",
       "      <td>0.000862</td>\n",
       "      <td>0.029366</td>\n",
       "      <td>0.014371</td>\n",
       "      <td>17.778569</td>\n",
       "      <td>TSMixer</td>\n",
       "    </tr>\n",
       "    <tr>\n",
       "      <th>...</th>\n",
       "      <td>...</td>\n",
       "      <td>...</td>\n",
       "      <td>...</td>\n",
       "      <td>...</td>\n",
       "      <td>...</td>\n",
       "      <td>...</td>\n",
       "    </tr>\n",
       "    <tr>\n",
       "      <th>45</th>\n",
       "      <td>MAC001475</td>\n",
       "      <td>0.010391</td>\n",
       "      <td>0.101935</td>\n",
       "      <td>0.048418</td>\n",
       "      <td>3.076623</td>\n",
       "      <td>LSTM</td>\n",
       "    </tr>\n",
       "    <tr>\n",
       "      <th>46</th>\n",
       "      <td>MAC001511</td>\n",
       "      <td>0.010366</td>\n",
       "      <td>0.101812</td>\n",
       "      <td>0.056755</td>\n",
       "      <td>3.492442</td>\n",
       "      <td>LSTM</td>\n",
       "    </tr>\n",
       "    <tr>\n",
       "      <th>47</th>\n",
       "      <td>MAC001536</td>\n",
       "      <td>0.019273</td>\n",
       "      <td>0.138827</td>\n",
       "      <td>0.080255</td>\n",
       "      <td>5.482542</td>\n",
       "      <td>LSTM</td>\n",
       "    </tr>\n",
       "    <tr>\n",
       "      <th>48</th>\n",
       "      <td>MAC001589</td>\n",
       "      <td>0.021107</td>\n",
       "      <td>0.145284</td>\n",
       "      <td>0.068981</td>\n",
       "      <td>3.734541</td>\n",
       "      <td>LSTM</td>\n",
       "    </tr>\n",
       "    <tr>\n",
       "      <th>49</th>\n",
       "      <td>MAC001600</td>\n",
       "      <td>0.003108</td>\n",
       "      <td>0.055747</td>\n",
       "      <td>0.029370</td>\n",
       "      <td>-1.006657</td>\n",
       "      <td>LSTM</td>\n",
       "    </tr>\n",
       "  </tbody>\n",
       "</table>\n",
       "<p>100 rows × 6 columns</p>\n",
       "</div>"
      ],
      "text/plain": [
       "   household_id       MSE      RMSE       MAE  Forecast Bias algorithm\n",
       "0     MAC000061  0.000791  0.028121  0.020859      12.875486   TSMixer\n",
       "1     MAC000062  0.000484  0.022007  0.014824      14.281264   TSMixer\n",
       "2     MAC000066  0.000169  0.012995  0.010929      43.869876   TSMixer\n",
       "3     MAC000086  0.001021  0.031948  0.019784      12.815567   TSMixer\n",
       "4     MAC000099  0.000862  0.029366  0.014371      17.778569   TSMixer\n",
       "..          ...       ...       ...       ...            ...       ...\n",
       "45    MAC001475  0.010391  0.101935  0.048418       3.076623      LSTM\n",
       "46    MAC001511  0.010366  0.101812  0.056755       3.492442      LSTM\n",
       "47    MAC001536  0.019273  0.138827  0.080255       5.482542      LSTM\n",
       "48    MAC001589  0.021107  0.145284  0.068981       3.734541      LSTM\n",
       "49    MAC001600  0.003108  0.055747  0.029370      -1.006657      LSTM\n",
       "\n",
       "[100 rows x 6 columns]"
      ]
     },
     "execution_count": 50,
     "metadata": {},
     "output_type": "execute_result"
    }
   ],
   "source": [
    "combined_metrics"
   ]
  },
  {
   "cell_type": "code",
   "execution_count": 37,
   "metadata": {
    "execution": {
     "iopub.execute_input": "2025-09-08T07:15:00.432553Z",
     "iopub.status.busy": "2025-09-08T07:15:00.431809Z",
     "iopub.status.idle": "2025-09-08T07:15:00.436958Z",
     "shell.execute_reply": "2025-09-08T07:15:00.436165Z",
     "shell.execute_reply.started": "2025-09-08T07:15:00.432530Z"
    },
    "trusted": true
   },
   "outputs": [
    {
     "name": "stdout",
     "output_type": "stream",
     "text": [
      "0.005511291919809968 0.1366286229125151\n"
     ]
    }
   ],
   "source": [
    "print(combined_metrics[\"MAE\"].min(), combined_metrics[\"MAE\"].max())"
   ]
  },
  {
   "cell_type": "code",
   "execution_count": 41,
   "metadata": {
    "execution": {
     "iopub.execute_input": "2025-09-08T07:17:41.450052Z",
     "iopub.status.busy": "2025-09-08T07:17:41.449531Z",
     "iopub.status.idle": "2025-09-08T07:17:43.226490Z",
     "shell.execute_reply": "2025-09-08T07:17:43.225703Z",
     "shell.execute_reply.started": "2025-09-08T07:17:41.450028Z"
    },
    "trusted": true
   },
   "outputs": [
    {
     "data": {
      "image/png": "[encoded data removed]",
      "text/plain": [
       "<Figure size 1800x1000 with 1 Axes>"
      ]
     },
     "metadata": {},
     "output_type": "display_data"
    }
   ],
   "source": [
    "import matplotlib.pyplot as plt\n",
    "\n",
    "plt.figure(figsize=(18,10))  # hình lớn\n",
    "\n",
    "for algo in combined_metrics[\"algorithm\"].unique():\n",
    "    subset = combined_metrics[combined_metrics[\"algorithm\"] == algo]\n",
    "    plt.hist(\n",
    "        subset[\"MAE\"], \n",
    "        bins=25,          \n",
    "        density=True, \n",
    "        alpha=0.6, \n",
    "        label=algo,\n",
    "        edgecolor=\"black\"\n",
    "    )\n",
    "\n",
    "plt.xlabel(\"MAE\", fontsize=20)\n",
    "plt.ylabel(\"Probability Density\", fontsize=20)\n",
    "plt.title(\"Distribution of MAE by Algorithm\", fontsize=24, weight=\"bold\")\n",
    "plt.xlim(0, 1)\n",
    "\n",
    "# chỉnh font cho ticks\n",
    "plt.xticks(fontsize=16)\n",
    "plt.yticks(fontsize=16)\n",
    "\n",
    "# chỉnh font cho legend\n",
    "plt.legend(fontsize=18)\n",
    "\n",
    "# Lưu ảnh cực nét\n",
    "plt.savefig(\"/kaggle/working/dl_mae_dist.png\", dpi=400, bbox_inches=\"tight\")\n",
    "plt.show()\n"
   ]
  },
  {
   "cell_type": "code",
   "execution_count": 44,
   "metadata": {
    "execution": {
     "iopub.execute_input": "2025-09-08T07:21:26.466128Z",
     "iopub.status.busy": "2025-09-08T07:21:26.465397Z",
     "iopub.status.idle": "2025-09-08T07:21:28.134035Z",
     "shell.execute_reply": "2025-09-08T07:21:28.133296Z",
     "shell.execute_reply.started": "2025-09-08T07:21:26.466103Z"
    },
    "trusted": true
   },
   "outputs": [
    {
     "data": {
      "image/png": "[encoded data removed]",
      "text/plain": [
       "<Figure size 1800x1000 with 1 Axes>"
      ]
     },
     "metadata": {},
     "output_type": "display_data"
    }
   ],
   "source": [
    "import matplotlib.pyplot as plt\n",
    "\n",
    "plt.figure(figsize=(18,10))  # hình lớn\n",
    "\n",
    "for algo in combined_metrics[\"algorithm\"].unique():\n",
    "    subset = combined_metrics[combined_metrics[\"algorithm\"] == algo]\n",
    "    plt.hist(\n",
    "        subset[\"MSE\"], \n",
    "        bins=25,          \n",
    "        density=True, \n",
    "        alpha=0.6, \n",
    "        label=algo,\n",
    "        edgecolor=\"black\"\n",
    "    )\n",
    "\n",
    "plt.xlabel(\"MSE\", fontsize=20)\n",
    "plt.ylabel(\"Probability Density\", fontsize=20)\n",
    "plt.title(\"Distribution of MSE by Algorithm\", fontsize=24, weight=\"bold\")\n",
    "plt.xlim(0, 1)\n",
    "\n",
    "# chỉnh font cho ticks\n",
    "plt.xticks(fontsize=16)\n",
    "plt.yticks(fontsize=16)\n",
    "\n",
    "# chỉnh font cho legend\n",
    "plt.legend(fontsize=18)\n",
    "\n",
    "# Lưu ảnh cực nét\n",
    "plt.savefig(\"/kaggle/working/dl_mse_dist.png\", dpi=400, bbox_inches=\"tight\")\n",
    "plt.show()\n"
   ]
  },
  {
   "cell_type": "code",
   "execution_count": 45,
   "metadata": {
    "execution": {
     "iopub.execute_input": "2025-09-08T07:22:03.355024Z",
     "iopub.status.busy": "2025-09-08T07:22:03.354728Z",
     "iopub.status.idle": "2025-09-08T07:22:05.022001Z",
     "shell.execute_reply": "2025-09-08T07:22:05.021222Z",
     "shell.execute_reply.started": "2025-09-08T07:22:03.355005Z"
    },
    "trusted": true
   },
   "outputs": [
    {
     "data": {
      "image/png": "[encoded data removed]",
      "text/plain": [
       "<Figure size 1800x1000 with 1 Axes>"
      ]
     },
     "metadata": {},
     "output_type": "display_data"
    }
   ],
   "source": [
    "import matplotlib.pyplot as plt\n",
    "\n",
    "plt.figure(figsize=(18,10))  # hình lớn\n",
    "\n",
    "for algo in combined_metrics[\"algorithm\"].unique():\n",
    "    subset = combined_metrics[combined_metrics[\"algorithm\"] == algo]\n",
    "    plt.hist(\n",
    "        subset[\"RMSE\"], \n",
    "        bins=25,          \n",
    "        density=True, \n",
    "        alpha=0.6, \n",
    "        label=algo,\n",
    "        edgecolor=\"black\"\n",
    "    )\n",
    "\n",
    "plt.xlabel(\"RMSE\", fontsize=20)\n",
    "plt.ylabel(\"Probability Density\", fontsize=20)\n",
    "plt.title(\"Distribution of RMSE by Algorithm\", fontsize=24, weight=\"bold\")\n",
    "plt.xlim(0, 1)\n",
    "\n",
    "# chỉnh font cho ticks\n",
    "plt.xticks(fontsize=16)\n",
    "plt.yticks(fontsize=16)\n",
    "\n",
    "# chỉnh font cho legend\n",
    "plt.legend(fontsize=18)\n",
    "\n",
    "# Lưu ảnh cực nét\n",
    "plt.savefig(\"/kaggle/working/dl_rmse_dist.png\", dpi=400, bbox_inches=\"tight\")\n",
    "plt.show()\n"
   ]
  },
  {
   "cell_type": "code",
   "execution_count": 49,
   "metadata": {
    "execution": {
     "iopub.execute_input": "2025-09-08T07:26:25.621591Z",
     "iopub.status.busy": "2025-09-08T07:26:25.620786Z",
     "iopub.status.idle": "2025-09-08T07:26:28.139480Z",
     "shell.execute_reply": "2025-09-08T07:26:28.138714Z",
     "shell.execute_reply.started": "2025-09-08T07:26:25.621565Z"
    },
    "trusted": true
   },
   "outputs": [
    {
     "data": {
      "image/png": "[encoded data removed]",
      "text/plain": [
       "<Figure size 1000x600 with 1 Axes>"
      ]
     },
     "metadata": {},
     "output_type": "display_data"
    }
   ],
   "source": [
    "import matplotlib.pyplot as plt\n",
    "\n",
    "plt.figure(figsize=(10,6))\n",
    "\n",
    "# Vẽ histogram overlay cho từng algorithm\n",
    "for algo in combined_metrics[\"algorithm\"].unique():\n",
    "    subset = combined_metrics[combined_metrics[\"algorithm\"] == algo]\n",
    "    plt.hist(\n",
    "        subset[\"Forecast Bias\"],\n",
    "        bins=500,\n",
    "        density=True,   # giống histnorm=\"probability density\"\n",
    "        alpha=0.5,\n",
    "        label=algo\n",
    "    )\n",
    "\n",
    "plt.xlabel(\"Forecast bias\")\n",
    "plt.ylabel(\"Probability Density\")\n",
    "plt.title(\"Distribution of Forecast Bias in the dataset\")\n",
    "plt.xlim(-10, 20)\n",
    "plt.legend()\n",
    "\n",
    "# Lưu ảnh vào Kaggle working\n",
    "plt.savefig(\"/kaggle/working/dl_bias_dist.png\", dpi=400, bbox_inches=\"tight\")\n",
    "plt.show()\n"
   ]
  },
  {
   "cell_type": "code",
   "execution_count": 57,
   "metadata": {
    "execution": {
     "iopub.execute_input": "2025-09-08T07:28:14.605563Z",
     "iopub.status.busy": "2025-09-08T07:28:14.604983Z",
     "iopub.status.idle": "2025-09-08T07:28:14.619621Z",
     "shell.execute_reply": "2025-09-08T07:28:14.619058Z",
     "shell.execute_reply.started": "2025-09-08T07:28:14.605538Z"
    },
    "trusted": true
   },
   "outputs": [],
   "source": [
    "display_lclid = \"MAC000062\"\n",
    "ts_baseline_test_pred_df = combined_predictions.loc[combined_predictions.household_id==display_lclid]\n",
    "ts_aggtest_metrics = combined_metrics.loc[combined_metrics.household_id==display_lclid]"
   ]
  },
  {
   "cell_type": "code",
   "execution_count": 58,
   "metadata": {
    "execution": {
     "iopub.execute_input": "2025-09-08T07:28:16.766679Z",
     "iopub.status.busy": "2025-09-08T07:28:16.766437Z",
     "iopub.status.idle": "2025-09-08T07:28:16.773340Z",
     "shell.execute_reply": "2025-09-08T07:28:16.772772Z",
     "shell.execute_reply.started": "2025-09-08T07:28:16.766662Z"
    },
    "trusted": true
   },
   "outputs": [],
   "source": [
    "lstm_data = ts_baseline_test_pred_df[ts_baseline_test_pred_df['model'] == 'LSTM'].copy()\n",
    "tsmixer_data = ts_baseline_test_pred_df[ts_baseline_test_pred_df['model'] == 'TSMixer'].copy()"
   ]
  },
  {
   "cell_type": "code",
   "execution_count": 59,
   "metadata": {
    "execution": {
     "iopub.execute_input": "2025-09-08T07:28:18.568130Z",
     "iopub.status.busy": "2025-09-08T07:28:18.567522Z",
     "iopub.status.idle": "2025-09-08T07:28:19.552072Z",
     "shell.execute_reply": "2025-09-08T07:28:19.551332Z",
     "shell.execute_reply.started": "2025-09-08T07:28:18.568108Z"
    },
    "trusted": true
   },
   "outputs": [
    {
     "data": {
      "image/png": "[encoded data removed]",
      "text/plain": [
       "<Figure size 1200x600 with 1 Axes>"
      ]
     },
     "metadata": {},
     "output_type": "display_data"
    }
   ],
   "source": [
    "import matplotlib.pyplot as plt\n",
    "import pandas as pd\n",
    "\n",
    "# Giả sử bạn đã có:\n",
    "# - tsmixer_data: DataFrame chứa cột [\"timestamp\", \"actual\", \"predicted\"]\n",
    "# - ts_aggtest_metrics: DataFrame chứa metrics (MSE, RMSE, MAE, Forecast Bias) theo từng algorithm\n",
    "\n",
    "# Lọc khoảng thời gian cần vẽ\n",
    "mask = (lstm_data[\"timestamp\"] >= \"2014-02-01\") & (lstm_data[\"timestamp\"] <= \"2014-02-10\")\n",
    "plot_data = lstm_data.loc[mask]\n",
    "\n",
    "# Lấy metrics cho TSMixer\n",
    "mse  = ts_aggtest_metrics.loc[ts_aggtest_metrics.algorithm==\"LSTM\", \"MSE\"].iloc[0]\n",
    "rmse = ts_aggtest_metrics.loc[ts_aggtest_metrics.algorithm==\"LSTM\", \"RMSE\"].iloc[0]\n",
    "mae  = ts_aggtest_metrics.loc[ts_aggtest_metrics.algorithm==\"LSTM\", \"MAE\"].iloc[0]\n",
    "bias = ts_aggtest_metrics.loc[ts_aggtest_metrics.algorithm==\"LSTM\", \"Forecast Bias\"].iloc[0]\n",
    "\n",
    "# Vẽ biểu đồ\n",
    "plt.figure(figsize=(12,6))\n",
    "plt.plot(plot_data[\"timestamp\"], plot_data[\"actual\"], label=\"Actual\", color=\"black\")\n",
    "plt.plot(plot_data[\"timestamp\"], plot_data[\"predicted\"], label=\"LSTM Prediction\", color=\"blue\", linestyle=\"--\")\n",
    "\n",
    "plt.xlabel(\"Date\")\n",
    "plt.ylabel(\"Energy Consumption\")\n",
    "plt.title(f\"LSTM: MSE={mse:.4f} | RMSE={rmse:.4f} | MAE={mae:.4f} | BIAS={bias:.4f}\")\n",
    "plt.legend()\n",
    "plt.xticks(rotation=45)\n",
    "plt.grid(True)\n",
    "plt.savefig(\"/kaggle/working/lstm_matplotlib.png\", dpi=300, bbox_inches=\"tight\")\n",
    "plt.show()"
   ]
  },
  {
   "cell_type": "code",
   "execution_count": 60,
   "metadata": {
    "execution": {
     "iopub.execute_input": "2025-09-08T07:28:24.945041Z",
     "iopub.status.busy": "2025-09-08T07:28:24.944343Z",
     "iopub.status.idle": "2025-09-08T07:28:25.929088Z",
     "shell.execute_reply": "2025-09-08T07:28:25.928287Z",
     "shell.execute_reply.started": "2025-09-08T07:28:24.945016Z"
    },
    "trusted": true
   },
   "outputs": [
    {
     "data": {
      "image/png": "[encoded data removed]",
      "text/plain": [
       "<Figure size 1200x600 with 1 Axes>"
      ]
     },
     "metadata": {},
     "output_type": "display_data"
    }
   ],
   "source": [
    "import matplotlib.pyplot as plt\n",
    "import pandas as pd\n",
    "\n",
    "# Giả sử bạn đã có:\n",
    "# - tsmixer_data: DataFrame chứa cột [\"timestamp\", \"actual\", \"predicted\"]\n",
    "# - ts_aggtest_metrics: DataFrame chứa metrics (MSE, RMSE, MAE, Forecast Bias) theo từng algorithm\n",
    "\n",
    "# Lọc khoảng thời gian cần vẽ\n",
    "mask = (tsmixer_data[\"timestamp\"] >= \"2014-02-01\") & (tsmixer_data[\"timestamp\"] <= \"2014-02-10\")\n",
    "plot_data = tsmixer_data.loc[mask]\n",
    "\n",
    "# Lấy metrics cho TSMixer\n",
    "mse  = ts_aggtest_metrics.loc[ts_aggtest_metrics.algorithm==\"TSMixer\", \"MSE\"].iloc[0]\n",
    "rmse = ts_aggtest_metrics.loc[ts_aggtest_metrics.algorithm==\"TSMixer\", \"RMSE\"].iloc[0]\n",
    "mae  = ts_aggtest_metrics.loc[ts_aggtest_metrics.algorithm==\"TSMixer\", \"MAE\"].iloc[0]\n",
    "bias = ts_aggtest_metrics.loc[ts_aggtest_metrics.algorithm==\"TSMixer\", \"Forecast Bias\"].iloc[0]\n",
    "\n",
    "# Vẽ biểu đồ\n",
    "plt.figure(figsize=(12,6))\n",
    "plt.plot(plot_data[\"timestamp\"], plot_data[\"actual\"], label=\"Actual\", color=\"black\")\n",
    "plt.plot(plot_data[\"timestamp\"], plot_data[\"predicted\"], label=\"TSMixer Prediction\", color=\"blue\", linestyle=\"--\")\n",
    "\n",
    "plt.xlabel(\"Date\")\n",
    "plt.ylabel(\"Energy Consumption\")\n",
    "plt.title(f\"TSMixer: MSE={mse:.4f} | RMSE={rmse:.4f} | MAE={mae:.4f} | BIAS={bias:.4f}\")\n",
    "plt.legend()\n",
    "plt.xticks(rotation=45)\n",
    "plt.grid(True)\n",
    "plt.savefig(\"/kaggle/working/tsmixer_matplotlib.png\", dpi=300, bbox_inches=\"tight\")\n",
    "plt.show()\n"
   ]
  }
 ],
 "metadata": {
  "kaggle": {
   "accelerator": "gpu",
   "dataSources": [
    {
     "datasetId": 4021,
     "sourceId": 3684057,
     "sourceType": "datasetVersion"
    },
    {
     "datasetId": 8211919,
     "sourceId": 12974533,
     "sourceType": "datasetVersion"
    },
    {
     "datasetId": 8214705,
     "sourceId": 12992957,
     "sourceType": "datasetVersion"
    },
    {
     "datasetId": 8212433,
     "sourceId": 12983038,
     "sourceType": "datasetVersion"
    }
   ],
   "dockerImageVersionId": 31089,
   "isGpuEnabled": true,
   "isInternetEnabled": true,
   "language": "python",
   "sourceType": "notebook"
  },
  "kernelspec": {
   "display_name": "Python 3",
   "language": "python",
   "name": "python3"
  },
  "language_info": {
   "codemirror_mode": {
    "name": "ipython",
    "version": 3
   },
   "file_extension": ".py",
   "mimetype": "text/x-python",
   "name": "python",
   "nbconvert_exporter": "python",
   "pygments_lexer": "ipython3",
   "version": "3.11.13"
  }
 },
 "nbformat": 4,
 "nbformat_minor": 4
}
